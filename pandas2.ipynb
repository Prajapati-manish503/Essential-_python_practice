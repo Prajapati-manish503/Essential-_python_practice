{
 "cells": [
  {
   "cell_type": "code",
   "execution_count": 19,
   "id": "e4baa80a-56ad-4b95-90f1-9b10f81e2f2d",
   "metadata": {},
   "outputs": [],
   "source": [
    "#creating a serise \n",
    "import pandas as pd \n",
    "import numpy as np"
   ]
  },
  {
   "cell_type": "code",
   "execution_count": 20,
   "id": "e1a5ac2f-17e0-4f8a-aaba-54dff72711e5",
   "metadata": {},
   "outputs": [],
   "source": [
    "empcod = np.array([1001, 1002, 1003, 1004, 1005])"
   ]
  },
  {
   "cell_type": "code",
   "execution_count": 21,
   "id": "090c62c8-918d-4731-8c2b-459283db0929",
   "metadata": {},
   "outputs": [
    {
     "data": {
      "text/plain": [
       "array([1001, 1002, 1003, 1004, 1005])"
      ]
     },
     "execution_count": 21,
     "metadata": {},
     "output_type": "execute_result"
    }
   ],
   "source": [
    "empcod"
   ]
  },
  {
   "cell_type": "code",
   "execution_count": 22,
   "id": "858d6927-1e5d-4863-a8b3-941bb3fec3b8",
   "metadata": {},
   "outputs": [],
   "source": [
    "empname=np.array([\"manish\",\"karan\",\"pramod\",\"avanish\",\"amith\"])"
   ]
  },
  {
   "cell_type": "code",
   "execution_count": 23,
   "id": "6f4fe442-e6f4-468a-8d0f-8f594a9158eb",
   "metadata": {},
   "outputs": [
    {
     "data": {
      "text/plain": [
       "array(['manish', 'karan', 'pramod', 'avanish', 'amith'], dtype='<U7')"
      ]
     },
     "execution_count": 23,
     "metadata": {},
     "output_type": "execute_result"
    }
   ],
   "source": [
    "empname"
   ]
  },
  {
   "cell_type": "code",
   "execution_count": 24,
   "id": "4fecf920-d217-4a41-a378-f6874acea568",
   "metadata": {},
   "outputs": [],
   "source": [
    "empcol = pd.Series(empname, index=empcod)"
   ]
  },
  {
   "cell_type": "code",
   "execution_count": 25,
   "id": "e4a4d394-4367-4461-b7d4-2737a0d070fb",
   "metadata": {},
   "outputs": [
    {
     "data": {
      "text/plain": [
       "1001     manish\n",
       "1002      karan\n",
       "1003     pramod\n",
       "1004    avanish\n",
       "1005      amith\n",
       "dtype: object"
      ]
     },
     "execution_count": 25,
     "metadata": {},
     "output_type": "execute_result"
    }
   ],
   "source": [
    "empcol"
   ]
  },
  {
   "cell_type": "code",
   "execution_count": 26,
   "id": "d1a2fcb2-e6cd-418b-be51-944cd82ea5b2",
   "metadata": {},
   "outputs": [],
   "source": [
    "designation=pd.Series([\"executive\",\"sr manager\",\"manager\",\"AVP\",\"VP\"],index= empcod)"
   ]
  },
  {
   "cell_type": "code",
   "execution_count": 27,
   "id": "38075a8b-dec2-481c-8b54-37fbcf0b59cd",
   "metadata": {},
   "outputs": [
    {
     "data": {
      "text/plain": [
       "1001     executive\n",
       "1002    sr manager\n",
       "1003       manager\n",
       "1004           AVP\n",
       "1005            VP\n",
       "dtype: object"
      ]
     },
     "execution_count": 27,
     "metadata": {},
     "output_type": "execute_result"
    }
   ],
   "source": [
    "designation"
   ]
  },
  {
   "cell_type": "code",
   "execution_count": 37,
   "id": "d970420d-dfe5-4b92-9a7d-6ce19fab4b3e",
   "metadata": {},
   "outputs": [],
   "source": [
    "salary=pd.Series([50000,25000,45000,15000,30000],index=empcod)"
   ]
  },
  {
   "cell_type": "code",
   "execution_count": 38,
   "id": "eb5b8bd3-157e-4a20-9d45-2c51fc91b216",
   "metadata": {},
   "outputs": [
    {
     "data": {
      "text/plain": [
       "1001    50000\n",
       "1002    25000\n",
       "1003    45000\n",
       "1004    15000\n",
       "1005    30000\n",
       "dtype: int64"
      ]
     },
     "execution_count": 38,
     "metadata": {},
     "output_type": "execute_result"
    }
   ],
   "source": [
    "salary"
   ]
  },
  {
   "cell_type": "code",
   "execution_count": 39,
   "id": "c6f72921-fd98-495e-bdad-f04d6a1bdc66",
   "metadata": {},
   "outputs": [],
   "source": [
    "d1={\"empname\":empcol,\"designation\":designation,\"salary\":salary}"
   ]
  },
  {
   "cell_type": "code",
   "execution_count": 40,
   "id": "cc170e2b-f4a4-42a7-8c1f-4e989d25c276",
   "metadata": {},
   "outputs": [],
   "source": [
    "df=pd.DataFrame(d1)"
   ]
  },
  {
   "cell_type": "code",
   "execution_count": 41,
   "id": "70efe00e-58ff-4b48-8d45-13bdf46ad359",
   "metadata": {},
   "outputs": [
    {
     "data": {
      "text/html": [
       "<div>\n",
       "<style scoped>\n",
       "    .dataframe tbody tr th:only-of-type {\n",
       "        vertical-align: middle;\n",
       "    }\n",
       "\n",
       "    .dataframe tbody tr th {\n",
       "        vertical-align: top;\n",
       "    }\n",
       "\n",
       "    .dataframe thead th {\n",
       "        text-align: right;\n",
       "    }\n",
       "</style>\n",
       "<table border=\"1\" class=\"dataframe\">\n",
       "  <thead>\n",
       "    <tr style=\"text-align: right;\">\n",
       "      <th></th>\n",
       "      <th>empname</th>\n",
       "      <th>designation</th>\n",
       "      <th>salary</th>\n",
       "    </tr>\n",
       "  </thead>\n",
       "  <tbody>\n",
       "    <tr>\n",
       "      <th>1001</th>\n",
       "      <td>manish</td>\n",
       "      <td>executive</td>\n",
       "      <td>50000</td>\n",
       "    </tr>\n",
       "    <tr>\n",
       "      <th>1002</th>\n",
       "      <td>karan</td>\n",
       "      <td>sr manager</td>\n",
       "      <td>25000</td>\n",
       "    </tr>\n",
       "    <tr>\n",
       "      <th>1003</th>\n",
       "      <td>pramod</td>\n",
       "      <td>manager</td>\n",
       "      <td>45000</td>\n",
       "    </tr>\n",
       "    <tr>\n",
       "      <th>1004</th>\n",
       "      <td>avanish</td>\n",
       "      <td>AVP</td>\n",
       "      <td>15000</td>\n",
       "    </tr>\n",
       "    <tr>\n",
       "      <th>1005</th>\n",
       "      <td>amith</td>\n",
       "      <td>VP</td>\n",
       "      <td>30000</td>\n",
       "    </tr>\n",
       "  </tbody>\n",
       "</table>\n",
       "</div>"
      ],
      "text/plain": [
       "      empname designation  salary\n",
       "1001   manish   executive   50000\n",
       "1002    karan  sr manager   25000\n",
       "1003   pramod     manager   45000\n",
       "1004  avanish         AVP   15000\n",
       "1005    amith          VP   30000"
      ]
     },
     "execution_count": 41,
     "metadata": {},
     "output_type": "execute_result"
    }
   ],
   "source": [
    "df"
   ]
  },
  {
   "cell_type": "code",
   "execution_count": 42,
   "id": "d092a932-78c1-4749-98f2-d92021f9bbdb",
   "metadata": {},
   "outputs": [
    {
     "data": {
      "text/plain": [
       "(5, 3)"
      ]
     },
     "execution_count": 42,
     "metadata": {},
     "output_type": "execute_result"
    }
   ],
   "source": [
    "#print the shape of \n",
    "df.shape"
   ]
  },
  {
   "cell_type": "code",
   "execution_count": 43,
   "id": "aa2818a3-058e-443a-86b0-26bc76bcfbcf",
   "metadata": {},
   "outputs": [
    {
     "data": {
      "text/plain": [
       "Index(['empname', 'designation', 'salary'], dtype='object')"
      ]
     },
     "execution_count": 43,
     "metadata": {},
     "output_type": "execute_result"
    }
   ],
   "source": [
    "#print the data column\n",
    "df.columns"
   ]
  },
  {
   "cell_type": "code",
   "execution_count": 44,
   "id": "765399f8-4a6e-43d9-a420-a43334c9df71",
   "metadata": {},
   "outputs": [
    {
     "data": {
      "text/html": [
       "<div>\n",
       "<style scoped>\n",
       "    .dataframe tbody tr th:only-of-type {\n",
       "        vertical-align: middle;\n",
       "    }\n",
       "\n",
       "    .dataframe tbody tr th {\n",
       "        vertical-align: top;\n",
       "    }\n",
       "\n",
       "    .dataframe thead th {\n",
       "        text-align: right;\n",
       "    }\n",
       "</style>\n",
       "<table border=\"1\" class=\"dataframe\">\n",
       "  <thead>\n",
       "    <tr style=\"text-align: right;\">\n",
       "      <th></th>\n",
       "      <th>empname</th>\n",
       "      <th>designation</th>\n",
       "      <th>salary</th>\n",
       "    </tr>\n",
       "  </thead>\n",
       "  <tbody>\n",
       "    <tr>\n",
       "      <th>1001</th>\n",
       "      <td>manish</td>\n",
       "      <td>executive</td>\n",
       "      <td>50000</td>\n",
       "    </tr>\n",
       "    <tr>\n",
       "      <th>1002</th>\n",
       "      <td>karan</td>\n",
       "      <td>sr manager</td>\n",
       "      <td>25000</td>\n",
       "    </tr>\n",
       "  </tbody>\n",
       "</table>\n",
       "</div>"
      ],
      "text/plain": [
       "     empname designation  salary\n",
       "1001  manish   executive   50000\n",
       "1002   karan  sr manager   25000"
      ]
     },
     "execution_count": 44,
     "metadata": {},
     "output_type": "execute_result"
    }
   ],
   "source": [
    "# print the first specific record\n",
    "df.head(2)"
   ]
  },
  {
   "cell_type": "code",
   "execution_count": 47,
   "id": "8f278a7a-bd4b-4acd-b195-327dd7aeaed1",
   "metadata": {},
   "outputs": [
    {
     "data": {
      "text/html": [
       "<div>\n",
       "<style scoped>\n",
       "    .dataframe tbody tr th:only-of-type {\n",
       "        vertical-align: middle;\n",
       "    }\n",
       "\n",
       "    .dataframe tbody tr th {\n",
       "        vertical-align: top;\n",
       "    }\n",
       "\n",
       "    .dataframe thead th {\n",
       "        text-align: right;\n",
       "    }\n",
       "</style>\n",
       "<table border=\"1\" class=\"dataframe\">\n",
       "  <thead>\n",
       "    <tr style=\"text-align: right;\">\n",
       "      <th></th>\n",
       "      <th>empname</th>\n",
       "      <th>designation</th>\n",
       "      <th>salary</th>\n",
       "    </tr>\n",
       "  </thead>\n",
       "  <tbody>\n",
       "    <tr>\n",
       "      <th>1004</th>\n",
       "      <td>avanish</td>\n",
       "      <td>AVP</td>\n",
       "      <td>15000</td>\n",
       "    </tr>\n",
       "    <tr>\n",
       "      <th>1005</th>\n",
       "      <td>amith</td>\n",
       "      <td>VP</td>\n",
       "      <td>30000</td>\n",
       "    </tr>\n",
       "  </tbody>\n",
       "</table>\n",
       "</div>"
      ],
      "text/plain": [
       "      empname designation  salary\n",
       "1004  avanish         AVP   15000\n",
       "1005    amith          VP   30000"
      ]
     },
     "execution_count": 47,
     "metadata": {},
     "output_type": "execute_result"
    }
   ],
   "source": [
    "#to print last  two specific record\n",
    "df.tail(2)"
   ]
  },
  {
   "cell_type": "markdown",
   "id": "c9eff182-e7b0-4d3a-a76c-ae67b9413423",
   "metadata": {},
   "source": [
    "#Row/column ke name (label based ) se select karte hain"
   ]
  },
  {
   "cell_type": "code",
   "execution_count": 50,
   "id": "5f02111c-234b-4a26-975a-c0f79a16bd93",
   "metadata": {},
   "outputs": [
    {
     "data": {
      "text/plain": [
       "empname         pramod\n",
       "designation    manager\n",
       "salary           45000\n",
       "Name: 1003, dtype: object"
      ]
     },
     "execution_count": 50,
     "metadata": {},
     "output_type": "execute_result"
    }
   ],
   "source": [
    "df.loc[1003]"
   ]
  },
  {
   "cell_type": "code",
   "execution_count": 49,
   "id": "37a79ef5-288a-4bd5-a705-e52c6590e5df",
   "metadata": {},
   "outputs": [
    {
     "data": {
      "text/html": [
       "<div>\n",
       "<style scoped>\n",
       "    .dataframe tbody tr th:only-of-type {\n",
       "        vertical-align: middle;\n",
       "    }\n",
       "\n",
       "    .dataframe tbody tr th {\n",
       "        vertical-align: top;\n",
       "    }\n",
       "\n",
       "    .dataframe thead th {\n",
       "        text-align: right;\n",
       "    }\n",
       "</style>\n",
       "<table border=\"1\" class=\"dataframe\">\n",
       "  <thead>\n",
       "    <tr style=\"text-align: right;\">\n",
       "      <th></th>\n",
       "      <th>empname</th>\n",
       "      <th>salary</th>\n",
       "    </tr>\n",
       "  </thead>\n",
       "  <tbody>\n",
       "    <tr>\n",
       "      <th>1002</th>\n",
       "      <td>karan</td>\n",
       "      <td>25000</td>\n",
       "    </tr>\n",
       "    <tr>\n",
       "      <th>1003</th>\n",
       "      <td>pramod</td>\n",
       "      <td>45000</td>\n",
       "    </tr>\n",
       "    <tr>\n",
       "      <th>1004</th>\n",
       "      <td>avanish</td>\n",
       "      <td>15000</td>\n",
       "    </tr>\n",
       "  </tbody>\n",
       "</table>\n",
       "</div>"
      ],
      "text/plain": [
       "      empname  salary\n",
       "1002    karan   25000\n",
       "1003   pramod   45000\n",
       "1004  avanish   15000"
      ]
     },
     "execution_count": 49,
     "metadata": {},
     "output_type": "execute_result"
    }
   ],
   "source": [
    "df.loc[1002:1004, [\"empname\", \"salary\"]]"
   ]
  },
  {
   "cell_type": "raw",
   "id": "1fba23ef-0273-4a9c-b802-fabe0e42948a",
   "metadata": {},
   "source": [
    "#  use of  integer loc iloc (0-based index)"
   ]
  },
  {
   "cell_type": "code",
   "execution_count": 51,
   "id": "8832086b-5899-4f97-bb18-879a7360dc3e",
   "metadata": {},
   "outputs": [
    {
     "data": {
      "text/plain": [
       "empname         pramod\n",
       "designation    manager\n",
       "salary           45000\n",
       "Name: 1003, dtype: object"
      ]
     },
     "execution_count": 51,
     "metadata": {},
     "output_type": "execute_result"
    }
   ],
   "source": [
    "df.iloc[2]"
   ]
  },
  {
   "cell_type": "code",
   "execution_count": 52,
   "id": "3a92223b-8c12-4deb-a907-742345e9ae8c",
   "metadata": {},
   "outputs": [
    {
     "data": {
      "text/html": [
       "<div>\n",
       "<style scoped>\n",
       "    .dataframe tbody tr th:only-of-type {\n",
       "        vertical-align: middle;\n",
       "    }\n",
       "\n",
       "    .dataframe tbody tr th {\n",
       "        vertical-align: top;\n",
       "    }\n",
       "\n",
       "    .dataframe thead th {\n",
       "        text-align: right;\n",
       "    }\n",
       "</style>\n",
       "<table border=\"1\" class=\"dataframe\">\n",
       "  <thead>\n",
       "    <tr style=\"text-align: right;\">\n",
       "      <th></th>\n",
       "      <th>empname</th>\n",
       "      <th>designation</th>\n",
       "    </tr>\n",
       "  </thead>\n",
       "  <tbody>\n",
       "    <tr>\n",
       "      <th>1001</th>\n",
       "      <td>manish</td>\n",
       "      <td>executive</td>\n",
       "    </tr>\n",
       "    <tr>\n",
       "      <th>1002</th>\n",
       "      <td>karan</td>\n",
       "      <td>sr manager</td>\n",
       "    </tr>\n",
       "    <tr>\n",
       "      <th>1003</th>\n",
       "      <td>pramod</td>\n",
       "      <td>manager</td>\n",
       "    </tr>\n",
       "  </tbody>\n",
       "</table>\n",
       "</div>"
      ],
      "text/plain": [
       "     empname designation\n",
       "1001  manish   executive\n",
       "1002   karan  sr manager\n",
       "1003  pramod     manager"
      ]
     },
     "execution_count": 52,
     "metadata": {},
     "output_type": "execute_result"
    }
   ],
   "source": [
    "# First 3 rows aur first 2 columns   ilocloc[startrow:stoprow,startcolumn:stop column]\n",
    "df.iloc[0:3, 0:2]"
   ]
  },
  {
   "cell_type": "code",
   "execution_count": 53,
   "id": "5af76c1c-2ef6-4bba-9b72-02764b7569ba",
   "metadata": {},
   "outputs": [],
   "source": [
    "nums=[800678,800456]\n",
    "names=[\"richie\",\"mark\"]"
   ]
  },
  {
   "cell_type": "code",
   "execution_count": 59,
   "id": "adbc70af-89ac-4737-80a5-7c60c7f33226",
   "metadata": {},
   "outputs": [],
   "source": [
    "series_1=pd.Series(nums)"
   ]
  },
  {
   "cell_type": "code",
   "execution_count": 74,
   "id": "47aa72cd-6ad4-4cc2-ab94-326e36d6a07a",
   "metadata": {},
   "outputs": [
    {
     "data": {
      "text/plain": [
       "0    800678\n",
       "1    800456\n",
       "dtype: int64"
      ]
     },
     "execution_count": 74,
     "metadata": {},
     "output_type": "execute_result"
    }
   ],
   "source": [
    "series_1"
   ]
  },
  {
   "cell_type": "raw",
   "id": "6952efcb-1341-4e21-b1a3-f9211353b06f",
   "metadata": {},
   "source": [
    "series_2 = pd.Series(nums, index=names)\n"
   ]
  },
  {
   "cell_type": "markdown",
   "id": "68576e29-356a-4a57-b5c1-e8f81361185b",
   "metadata": {},
   "source": [
    "series_2 ko directly likhne ka matlab sirf notebook ya interactive environment me output dikhega.\n",
    "Agar aap normal Python script (.py) run kar rahe ho, to print(series_2) hi use karna padega, warna console me kuch bhi print nahi hoga."
   ]
  },
  {
   "cell_type": "code",
   "execution_count": 78,
   "id": "c77807f3-0250-4798-9c27-b6052599833f",
   "metadata": {},
   "outputs": [
    {
     "name": "stdout",
     "output_type": "stream",
     "text": [
      "richie    800678\n",
      "mark      800456\n",
      "dtype: int64\n"
     ]
    }
   ],
   "source": [
    "series_2 = pd.Series(nums, index=names)\n",
    "print(series_2)\n"
   ]
  },
  {
   "cell_type": "code",
   "execution_count": 80,
   "id": "805a42e6-e294-45d2-8139-bf3a991579c0",
   "metadata": {},
   "outputs": [
    {
     "data": {
      "text/html": [
       "<div>\n",
       "<style scoped>\n",
       "    .dataframe tbody tr th:only-of-type {\n",
       "        vertical-align: middle;\n",
       "    }\n",
       "\n",
       "    .dataframe tbody tr th {\n",
       "        vertical-align: top;\n",
       "    }\n",
       "\n",
       "    .dataframe thead th {\n",
       "        text-align: right;\n",
       "    }\n",
       "</style>\n",
       "<table border=\"1\" class=\"dataframe\">\n",
       "  <thead>\n",
       "    <tr style=\"text-align: right;\">\n",
       "      <th></th>\n",
       "      <th>1001</th>\n",
       "      <th>1002</th>\n",
       "      <th>1003</th>\n",
       "      <th>1004</th>\n",
       "      <th>1005</th>\n",
       "    </tr>\n",
       "  </thead>\n",
       "  <tbody>\n",
       "    <tr>\n",
       "      <th>empname</th>\n",
       "      <td>manish</td>\n",
       "      <td>karan</td>\n",
       "      <td>pramod</td>\n",
       "      <td>avanish</td>\n",
       "      <td>amith</td>\n",
       "    </tr>\n",
       "    <tr>\n",
       "      <th>designation</th>\n",
       "      <td>executive</td>\n",
       "      <td>sr manager</td>\n",
       "      <td>manager</td>\n",
       "      <td>AVP</td>\n",
       "      <td>VP</td>\n",
       "    </tr>\n",
       "    <tr>\n",
       "      <th>salary</th>\n",
       "      <td>50000</td>\n",
       "      <td>25000</td>\n",
       "      <td>45000</td>\n",
       "      <td>15000</td>\n",
       "      <td>30000</td>\n",
       "    </tr>\n",
       "  </tbody>\n",
       "</table>\n",
       "</div>"
      ],
      "text/plain": [
       "                  1001        1002     1003     1004   1005\n",
       "empname         manish       karan   pramod  avanish  amith\n",
       "designation  executive  sr manager  manager      AVP     VP\n",
       "salary           50000       25000    45000    15000  30000"
      ]
     },
     "execution_count": 80,
     "metadata": {},
     "output_type": "execute_result"
    }
   ],
   "source": [
    "# so here this is transposition in dataframe\n",
    "#Transposition matlab rows aur columns ko interchange karna.\n",
    "df.T"
   ]
  },
  {
   "cell_type": "code",
   "execution_count": 81,
   "id": "cf5eefdb-d2d4-420f-b069-a86ec46ab028",
   "metadata": {},
   "outputs": [
    {
     "data": {
      "text/html": [
       "<div>\n",
       "<style scoped>\n",
       "    .dataframe tbody tr th:only-of-type {\n",
       "        vertical-align: middle;\n",
       "    }\n",
       "\n",
       "    .dataframe tbody tr th {\n",
       "        vertical-align: top;\n",
       "    }\n",
       "\n",
       "    .dataframe thead th {\n",
       "        text-align: right;\n",
       "    }\n",
       "</style>\n",
       "<table border=\"1\" class=\"dataframe\">\n",
       "  <thead>\n",
       "    <tr style=\"text-align: right;\">\n",
       "      <th></th>\n",
       "      <th>empname</th>\n",
       "      <th>designation</th>\n",
       "      <th>salary</th>\n",
       "    </tr>\n",
       "  </thead>\n",
       "  <tbody>\n",
       "    <tr>\n",
       "      <th>1001</th>\n",
       "      <td>manish</td>\n",
       "      <td>executive</td>\n",
       "      <td>50000</td>\n",
       "    </tr>\n",
       "    <tr>\n",
       "      <th>1002</th>\n",
       "      <td>karan</td>\n",
       "      <td>sr manager</td>\n",
       "      <td>25000</td>\n",
       "    </tr>\n",
       "    <tr>\n",
       "      <th>1003</th>\n",
       "      <td>pramod</td>\n",
       "      <td>manager</td>\n",
       "      <td>45000</td>\n",
       "    </tr>\n",
       "    <tr>\n",
       "      <th>1004</th>\n",
       "      <td>avanish</td>\n",
       "      <td>AVP</td>\n",
       "      <td>15000</td>\n",
       "    </tr>\n",
       "    <tr>\n",
       "      <th>1005</th>\n",
       "      <td>amith</td>\n",
       "      <td>VP</td>\n",
       "      <td>30000</td>\n",
       "    </tr>\n",
       "  </tbody>\n",
       "</table>\n",
       "</div>"
      ],
      "text/plain": [
       "      empname designation  salary\n",
       "1001   manish   executive   50000\n",
       "1002    karan  sr manager   25000\n",
       "1003   pramod     manager   45000\n",
       "1004  avanish         AVP   15000\n",
       "1005    amith          VP   30000"
      ]
     },
     "execution_count": 81,
     "metadata": {},
     "output_type": "execute_result"
    }
   ],
   "source": [
    "df"
   ]
  },
  {
   "cell_type": "code",
   "execution_count": 82,
   "id": "b0a36a9b-a118-426c-9522-7e05724c7cd5",
   "metadata": {},
   "outputs": [
    {
     "data": {
      "text/plain": [
       "empname        object\n",
       "designation    object\n",
       "salary          int64\n",
       "dtype: object"
      ]
     },
     "execution_count": 82,
     "metadata": {},
     "output_type": "execute_result"
    }
   ],
   "source": [
    "df.dtypes"
   ]
  },
  {
   "cell_type": "markdown",
   "id": "e028b34b-8e07-4297-a0d9-8a99185242b0",
   "metadata": {},
   "source": [
    "# 1name indxing   2 indexignlocation 2locaion  4 conditional filtering"
   ]
  },
  {
   "cell_type": "code",
   "execution_count": 83,
   "id": "6a09bb9f-09f0-409e-93a1-40e7e051cca4",
   "metadata": {},
   "outputs": [
    {
     "data": {
      "text/plain": [
       "1001     manish\n",
       "1002      karan\n",
       "1003     pramod\n",
       "1004    avanish\n",
       "1005      amith\n",
       "Name: empname, dtype: object"
      ]
     },
     "execution_count": 83,
     "metadata": {},
     "output_type": "execute_result"
    }
   ],
   "source": [
    "#print empname\n",
    "df.empname"
   ]
  },
  {
   "cell_type": "code",
   "execution_count": 84,
   "id": "7b90f9ca-8b91-455c-9ebe-7f0249d520fd",
   "metadata": {},
   "outputs": [
    {
     "data": {
      "text/plain": [
       "1001     manish\n",
       "1002      karan\n",
       "1003     pramod\n",
       "1004    avanish\n",
       "1005      amith\n",
       "Name: empname, dtype: object"
      ]
     },
     "execution_count": 84,
     "metadata": {},
     "output_type": "execute_result"
    }
   ],
   "source": [
    "df[\"empname\"]"
   ]
  },
  {
   "cell_type": "code",
   "execution_count": 86,
   "id": "7cca0012-2d4e-4650-bf66-e7e045457a68",
   "metadata": {},
   "outputs": [
    {
     "data": {
      "text/html": [
       "<div>\n",
       "<style scoped>\n",
       "    .dataframe tbody tr th:only-of-type {\n",
       "        vertical-align: middle;\n",
       "    }\n",
       "\n",
       "    .dataframe tbody tr th {\n",
       "        vertical-align: top;\n",
       "    }\n",
       "\n",
       "    .dataframe thead th {\n",
       "        text-align: right;\n",
       "    }\n",
       "</style>\n",
       "<table border=\"1\" class=\"dataframe\">\n",
       "  <thead>\n",
       "    <tr style=\"text-align: right;\">\n",
       "      <th></th>\n",
       "      <th>empname</th>\n",
       "      <th>designation</th>\n",
       "    </tr>\n",
       "  </thead>\n",
       "  <tbody>\n",
       "    <tr>\n",
       "      <th>1001</th>\n",
       "      <td>manish</td>\n",
       "      <td>executive</td>\n",
       "    </tr>\n",
       "    <tr>\n",
       "      <th>1002</th>\n",
       "      <td>karan</td>\n",
       "      <td>sr manager</td>\n",
       "    </tr>\n",
       "    <tr>\n",
       "      <th>1003</th>\n",
       "      <td>pramod</td>\n",
       "      <td>manager</td>\n",
       "    </tr>\n",
       "    <tr>\n",
       "      <th>1004</th>\n",
       "      <td>avanish</td>\n",
       "      <td>AVP</td>\n",
       "    </tr>\n",
       "    <tr>\n",
       "      <th>1005</th>\n",
       "      <td>amith</td>\n",
       "      <td>VP</td>\n",
       "    </tr>\n",
       "  </tbody>\n",
       "</table>\n",
       "</div>"
      ],
      "text/plain": [
       "      empname designation\n",
       "1001   manish   executive\n",
       "1002    karan  sr manager\n",
       "1003   pramod     manager\n",
       "1004  avanish         AVP\n",
       "1005    amith          VP"
      ]
     },
     "execution_count": 86,
     "metadata": {},
     "output_type": "execute_result"
    }
   ],
   "source": [
    "# print multitaple coumn\n",
    "df[[\"empname\",\"designation\"]]"
   ]
  },
  {
   "cell_type": "code",
   "execution_count": 87,
   "id": "3775565a-36be-4796-bf44-3c58c15a686b",
   "metadata": {},
   "outputs": [
    {
     "data": {
      "text/html": [
       "<div>\n",
       "<style scoped>\n",
       "    .dataframe tbody tr th:only-of-type {\n",
       "        vertical-align: middle;\n",
       "    }\n",
       "\n",
       "    .dataframe tbody tr th {\n",
       "        vertical-align: top;\n",
       "    }\n",
       "\n",
       "    .dataframe thead th {\n",
       "        text-align: right;\n",
       "    }\n",
       "</style>\n",
       "<table border=\"1\" class=\"dataframe\">\n",
       "  <thead>\n",
       "    <tr style=\"text-align: right;\">\n",
       "      <th></th>\n",
       "      <th>empname</th>\n",
       "      <th>designation</th>\n",
       "      <th>salary</th>\n",
       "    </tr>\n",
       "  </thead>\n",
       "  <tbody>\n",
       "    <tr>\n",
       "      <th>1002</th>\n",
       "      <td>karan</td>\n",
       "      <td>sr manager</td>\n",
       "      <td>25000</td>\n",
       "    </tr>\n",
       "    <tr>\n",
       "      <th>1003</th>\n",
       "      <td>pramod</td>\n",
       "      <td>manager</td>\n",
       "      <td>45000</td>\n",
       "    </tr>\n",
       "  </tbody>\n",
       "</table>\n",
       "</div>"
      ],
      "text/plain": [
       "     empname designation  salary\n",
       "1002   karan  sr manager   25000\n",
       "1003  pramod     manager   45000"
      ]
     },
     "execution_count": 87,
     "metadata": {},
     "output_type": "execute_result"
    }
   ],
   "source": [
    "df.loc[[1002,1003],:]"
   ]
  },
  {
   "cell_type": "code",
   "execution_count": 90,
   "id": "ba598f52-d740-4acf-b936-0d0e6c39c710",
   "metadata": {},
   "outputs": [
    {
     "data": {
      "text/html": [
       "<div>\n",
       "<style scoped>\n",
       "    .dataframe tbody tr th:only-of-type {\n",
       "        vertical-align: middle;\n",
       "    }\n",
       "\n",
       "    .dataframe tbody tr th {\n",
       "        vertical-align: top;\n",
       "    }\n",
       "\n",
       "    .dataframe thead th {\n",
       "        text-align: right;\n",
       "    }\n",
       "</style>\n",
       "<table border=\"1\" class=\"dataframe\">\n",
       "  <thead>\n",
       "    <tr style=\"text-align: right;\">\n",
       "      <th></th>\n",
       "      <th>designation</th>\n",
       "      <th>salary</th>\n",
       "    </tr>\n",
       "  </thead>\n",
       "  <tbody>\n",
       "    <tr>\n",
       "      <th>1002</th>\n",
       "      <td>sr manager</td>\n",
       "      <td>25000</td>\n",
       "    </tr>\n",
       "    <tr>\n",
       "      <th>1003</th>\n",
       "      <td>manager</td>\n",
       "      <td>45000</td>\n",
       "    </tr>\n",
       "  </tbody>\n",
       "</table>\n",
       "</div>"
      ],
      "text/plain": [
       "     designation  salary\n",
       "1002  sr manager   25000\n",
       "1003     manager   45000"
      ]
     },
     "execution_count": 90,
     "metadata": {},
     "output_type": "execute_result"
    }
   ],
   "source": [
    "df.loc[[1002,1003],[\"designation\",\"salary\"]]"
   ]
  },
  {
   "cell_type": "code",
   "execution_count": null,
   "id": "69e1e987-3c0a-4418-bf50-f54af7dc2598",
   "metadata": {},
   "outputs": [],
   "source": []
  }
 ],
 "metadata": {
  "kernelspec": {
   "display_name": "Python 3 (ipykernel)",
   "language": "python",
   "name": "python3"
  },
  "language_info": {
   "codemirror_mode": {
    "name": "ipython",
    "version": 3
   },
   "file_extension": ".py",
   "mimetype": "text/x-python",
   "name": "python",
   "nbconvert_exporter": "python",
   "pygments_lexer": "ipython3",
   "version": "3.12.7"
  }
 },
 "nbformat": 4,
 "nbformat_minor": 5
}
