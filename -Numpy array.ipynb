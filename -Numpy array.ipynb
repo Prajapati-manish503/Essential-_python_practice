{
 "cells": [
  {
   "cell_type": "code",
   "execution_count": 12,
   "id": "ab6d0896-9df8-4979-a0f9-53853e9ebef4",
   "metadata": {},
   "outputs": [],
   "source": [
    "import numpy as np"
   ]
  },
  {
   "cell_type": "code",
   "execution_count": 4,
   "id": "6703d50f-9d5e-4101-b39f-7dee6ede1736",
   "metadata": {},
   "outputs": [],
   "source": [
    "x= np.array([10,2,3,4,6,8])"
   ]
  },
  {
   "cell_type": "code",
   "execution_count": 6,
   "id": "885a493e-8b79-4624-b8c4-0270365d0a18",
   "metadata": {},
   "outputs": [
    {
     "data": {
      "text/plain": [
       "array([10,  2,  3,  4,  6,  8])"
      ]
     },
     "execution_count": 6,
     "metadata": {},
     "output_type": "execute_result"
    }
   ],
   "source": [
    "x"
   ]
  },
  {
   "cell_type": "code",
   "execution_count": 8,
   "id": "aeb1dba9-7e18-42a6-af66-b90966d004b9",
   "metadata": {},
   "outputs": [
    {
     "data": {
      "text/plain": [
       "1"
      ]
     },
     "execution_count": 8,
     "metadata": {},
     "output_type": "execute_result"
    }
   ],
   "source": [
    "#printing the number of dimension\n",
    "x.ndim"
   ]
  },
  {
   "cell_type": "code",
   "execution_count": 10,
   "id": "c602f577-b6ab-49b2-abf0-c907c74322cc",
   "metadata": {},
   "outputs": [
    {
     "data": {
      "text/plain": [
       "(6,)"
      ]
     },
     "execution_count": 10,
     "metadata": {},
     "output_type": "execute_result"
    }
   ],
   "source": [
    "x.shape"
   ]
  },
  {
   "cell_type": "code",
   "execution_count": 13,
   "id": "7a42134b-b734-49ef-bae2-8edcc92634dd",
   "metadata": {},
   "outputs": [],
   "source": [
    "y=np.array([10, 20, 40,30,90],dtype=\"float\")"
   ]
  },
  {
   "cell_type": "code",
   "execution_count": 14,
   "id": "584d5a3a-b6c1-43c8-ba4d-ea6185bac6d3",
   "metadata": {},
   "outputs": [
    {
     "data": {
      "text/plain": [
       "array([10., 20., 40., 30., 90.])"
      ]
     },
     "execution_count": 14,
     "metadata": {},
     "output_type": "execute_result"
    }
   ],
   "source": [
    "y"
   ]
  },
  {
   "cell_type": "code",
   "execution_count": 15,
   "id": "610d5e05-4ef7-431c-a57e-34df6add5e1d",
   "metadata": {},
   "outputs": [],
   "source": [
    "y=np.array([10, 20, 40,30,90],dtype=\"bool\")"
   ]
  },
  {
   "cell_type": "code",
   "execution_count": 16,
   "id": "d9b801b4-d699-487c-a891-65cc6f990a5e",
   "metadata": {},
   "outputs": [
    {
     "data": {
      "text/plain": [
       "array([ True,  True,  True,  True,  True])"
      ]
     },
     "execution_count": 16,
     "metadata": {},
     "output_type": "execute_result"
    }
   ],
   "source": [
    "y"
   ]
  },
  {
   "cell_type": "code",
   "execution_count": 17,
   "id": "e4b484e8-85e9-4610-815e-dd749a700b9b",
   "metadata": {},
   "outputs": [
    {
     "data": {
      "text/plain": [
       "dtype('bool')"
      ]
     },
     "execution_count": 17,
     "metadata": {},
     "output_type": "execute_result"
    }
   ],
   "source": [
    "# to chek the data type in numpy array\n",
    "y.dtype"
   ]
  },
  {
   "cell_type": "code",
   "execution_count": 21,
   "id": "c096b189-fc5e-49ce-ae59-b040a22e46eb",
   "metadata": {},
   "outputs": [],
   "source": [
    "#double dimensional array\n",
    "mat1=np.array([[2,3,6],[5,7,9],[4,6,8]])"
   ]
  },
  {
   "cell_type": "code",
   "execution_count": 23,
   "id": "35833d16-e96a-4fea-bdcb-d9779640df99",
   "metadata": {},
   "outputs": [
    {
     "data": {
      "text/plain": [
       "array([[2, 3, 6],\n",
       "       [5, 7, 9],\n",
       "       [4, 6, 8]])"
      ]
     },
     "execution_count": 23,
     "metadata": {},
     "output_type": "execute_result"
    }
   ],
   "source": [
    "mat1"
   ]
  },
  {
   "cell_type": "code",
   "execution_count": 24,
   "id": "7e63bade-fa81-463b-9ef5-03b0e7534839",
   "metadata": {},
   "outputs": [
    {
     "data": {
      "text/plain": [
       "(3, 3)"
      ]
     },
     "execution_count": 24,
     "metadata": {},
     "output_type": "execute_result"
    }
   ],
   "source": [
    "mat1.shape"
   ]
  },
  {
   "cell_type": "code",
   "execution_count": 25,
   "id": "f227299f-639b-4530-b46b-386a82ad506f",
   "metadata": {},
   "outputs": [
    {
     "data": {
      "text/plain": [
       "dtype('int32')"
      ]
     },
     "execution_count": 25,
     "metadata": {},
     "output_type": "execute_result"
    }
   ],
   "source": [
    "mat1.dtype"
   ]
  },
  {
   "cell_type": "code",
   "execution_count": 26,
   "id": "1fcbb616-edf2-426c-9a05-eb9ce3f7eff8",
   "metadata": {},
   "outputs": [],
   "source": [
    "mat2=np.array([[4.2,6.45,8],[2.30,4,6.45],[1.34,3.56,5]])"
   ]
  },
  {
   "cell_type": "code",
   "execution_count": 27,
   "id": "d4bda0df-8335-437b-a3ee-17729f5c62a0",
   "metadata": {},
   "outputs": [
    {
     "data": {
      "text/plain": [
       "array([[4.2 , 6.45, 8.  ],\n",
       "       [2.3 , 4.  , 6.45],\n",
       "       [1.34, 3.56, 5.  ]])"
      ]
     },
     "execution_count": 27,
     "metadata": {},
     "output_type": "execute_result"
    }
   ],
   "source": [
    "mat2"
   ]
  },
  {
   "cell_type": "code",
   "execution_count": 31,
   "id": "61c037ea-ee70-43c1-b0ed-b8846a23b643",
   "metadata": {},
   "outputs": [
    {
     "data": {
      "text/plain": [
       "(3, 3)"
      ]
     },
     "execution_count": 31,
     "metadata": {},
     "output_type": "execute_result"
    }
   ],
   "source": [
    "mat2.shape"
   ]
  },
  {
   "cell_type": "code",
   "execution_count": 34,
   "id": "fbce4907-9441-4909-9eea-854b03e0f5d1",
   "metadata": {},
   "outputs": [
    {
     "data": {
      "text/plain": [
       "dtype('float64')"
      ]
     },
     "execution_count": 34,
     "metadata": {},
     "output_type": "execute_result"
    }
   ],
   "source": [
    "mat2.dtype"
   ]
  },
  {
   "cell_type": "raw",
   "id": "82ce103b-9f45-4990-a9ab-5087a1f6a38e",
   "metadata": {},
   "source": [
    "Creating numpy array with function"
   ]
  },
  {
   "cell_type": "code",
   "execution_count": 36,
   "id": "6a3fc824-0ad5-41d2-b043-74c3abd1e0ce",
   "metadata": {},
   "outputs": [],
   "source": [
    "n1=np.empty([3,2])"
   ]
  },
  {
   "cell_type": "code",
   "execution_count": 37,
   "id": "79b0d3c7-fda8-42f6-9a07-e9944db80236",
   "metadata": {},
   "outputs": [
    {
     "data": {
      "text/plain": [
       "array([[6.23042070e-307, 4.67296746e-307],\n",
       "       [1.69121096e-306, 1.24610994e-306],\n",
       "       [1.42413555e-306, 1.78019082e-306]])"
      ]
     },
     "execution_count": 37,
     "metadata": {},
     "output_type": "execute_result"
    }
   ],
   "source": [
    "n1"
   ]
  },
  {
   "cell_type": "code",
   "execution_count": 40,
   "id": "da25a379-a2ea-4ea8-9018-b7256af87cbd",
   "metadata": {},
   "outputs": [],
   "source": [
    "n2=np.zeros([2,3])"
   ]
  },
  {
   "cell_type": "code",
   "execution_count": 41,
   "id": "ba49ae24-68a6-4acb-8649-3f7c9374917b",
   "metadata": {},
   "outputs": [
    {
     "data": {
      "text/plain": [
       "array([[0., 0., 0.],\n",
       "       [0., 0., 0.]])"
      ]
     },
     "execution_count": 41,
     "metadata": {},
     "output_type": "execute_result"
    }
   ],
   "source": [
    "n2"
   ]
  },
  {
   "cell_type": "code",
   "execution_count": 42,
   "id": "511b3f0f-7d0c-4331-ae52-b083b428389c",
   "metadata": {},
   "outputs": [],
   "source": [
    "n3=np.ones([5,4])"
   ]
  },
  {
   "cell_type": "code",
   "execution_count": 43,
   "id": "4e4e0b02-1ec1-472f-9069-f488ffece771",
   "metadata": {},
   "outputs": [
    {
     "data": {
      "text/plain": [
       "array([[1., 1., 1., 1.],\n",
       "       [1., 1., 1., 1.],\n",
       "       [1., 1., 1., 1.],\n",
       "       [1., 1., 1., 1.],\n",
       "       [1., 1., 1., 1.]])"
      ]
     },
     "execution_count": 43,
     "metadata": {},
     "output_type": "execute_result"
    }
   ],
   "source": [
    "n3"
   ]
  },
  {
   "cell_type": "code",
   "execution_count": null,
   "id": "d4046ae1-8c6a-4f9c-8f47-65b8cc7916d9",
   "metadata": {},
   "outputs": [],
   "source": [
    "#craeting numpy arry with number like seven"
   ]
  },
  {
   "cell_type": "code",
   "execution_count": 44,
   "id": "69884022-cc88-488b-8fd6-cff378dcecd7",
   "metadata": {},
   "outputs": [],
   "source": [
    "n4=np.full([4,5],7)"
   ]
  },
  {
   "cell_type": "code",
   "execution_count": 45,
   "id": "a14f5a2f-a344-41e7-90a6-768913732989",
   "metadata": {},
   "outputs": [
    {
     "data": {
      "text/plain": [
       "array([[7, 7, 7, 7, 7],\n",
       "       [7, 7, 7, 7, 7],\n",
       "       [7, 7, 7, 7, 7],\n",
       "       [7, 7, 7, 7, 7]])"
      ]
     },
     "execution_count": 45,
     "metadata": {},
     "output_type": "execute_result"
    }
   ],
   "source": [
    "n4"
   ]
  },
  {
   "cell_type": "code",
   "execution_count": 47,
   "id": "e6d8c75e-db2d-48a3-84bd-14afc2e5fb55",
   "metadata": {},
   "outputs": [],
   "source": [
    "#select with range\n",
    "n5 =np.arange(1,13,2)"
   ]
  },
  {
   "cell_type": "code",
   "execution_count": 48,
   "id": "9b90cd81-a491-47ff-89e5-1dd5a884c9c2",
   "metadata": {},
   "outputs": [
    {
     "data": {
      "text/plain": [
       "array([ 1,  3,  5,  7,  9, 11])"
      ]
     },
     "execution_count": 48,
     "metadata": {},
     "output_type": "execute_result"
    }
   ],
   "source": [
    "n5"
   ]
  },
  {
   "cell_type": "code",
   "execution_count": 53,
   "id": "c9825538-b844-4a6e-afef-5d334befe077",
   "metadata": {},
   "outputs": [],
   "source": [
    "n6=np.reshape(n5,[3,2])"
   ]
  },
  {
   "cell_type": "code",
   "execution_count": 54,
   "id": "d1e04131-559d-428b-9192-4711c82d54ca",
   "metadata": {},
   "outputs": [
    {
     "data": {
      "text/plain": [
       "array([[ 1,  3],\n",
       "       [ 5,  7],\n",
       "       [ 9, 11]])"
      ]
     },
     "execution_count": 54,
     "metadata": {},
     "output_type": "execute_result"
    }
   ],
   "source": [
    "n6"
   ]
  },
  {
   "cell_type": "code",
   "execution_count": 55,
   "id": "88afb7cb-2599-420f-87ff-30000f72cdc6",
   "metadata": {},
   "outputs": [],
   "source": [
    "n7=np.reshape(n5,[3,2],order=\"F\")"
   ]
  },
  {
   "cell_type": "code",
   "execution_count": 56,
   "id": "3d6c45ad-54fe-4301-a7ad-b4cf538af236",
   "metadata": {},
   "outputs": [
    {
     "data": {
      "text/plain": [
       "array([[ 1,  7],\n",
       "       [ 3,  9],\n",
       "       [ 5, 11]])"
      ]
     },
     "execution_count": 56,
     "metadata": {},
     "output_type": "execute_result"
    }
   ],
   "source": [
    "n7"
   ]
  },
  {
   "cell_type": "markdown",
   "id": "37d18a2d-e8ba-4d21-b64f-a7f0beb684bf",
   "metadata": {},
   "source": [
    "# to create a llist of number with range\n",
    "#create a list of 20 number"
   ]
  },
  {
   "cell_type": "code",
   "execution_count": 60,
   "id": "dc2ca2d8-e990-4a64-9eb4-efaae2b30137",
   "metadata": {},
   "outputs": [],
   "source": [
    "\n",
    "x_axis = np.linspace(5, 11, 20)   # 5 से 11 तक 20 points\n",
    "y_axis = np.linspace(20, 30, 20)  # 20 से 30 तक 20 points"
   ]
  },
  {
   "cell_type": "code",
   "execution_count": 62,
   "id": "83e51657-474a-490a-b26d-0bbd9b1f591d",
   "metadata": {},
   "outputs": [
    {
     "data": {
      "text/plain": [
       "array([ 5.        ,  5.31578947,  5.63157895,  5.94736842,  6.26315789,\n",
       "        6.57894737,  6.89473684,  7.21052632,  7.52631579,  7.84210526,\n",
       "        8.15789474,  8.47368421,  8.78947368,  9.10526316,  9.42105263,\n",
       "        9.73684211, 10.05263158, 10.36842105, 10.68421053, 11.        ])"
      ]
     },
     "execution_count": 62,
     "metadata": {},
     "output_type": "execute_result"
    }
   ],
   "source": [
    "x_axis"
   ]
  },
  {
   "cell_type": "code",
   "execution_count": 63,
   "id": "27aa4507-86c0-400a-974c-7c061977d049",
   "metadata": {},
   "outputs": [
    {
     "data": {
      "text/plain": [
       "array([20.        , 20.52631579, 21.05263158, 21.57894737, 22.10526316,\n",
       "       22.63157895, 23.15789474, 23.68421053, 24.21052632, 24.73684211,\n",
       "       25.26315789, 25.78947368, 26.31578947, 26.84210526, 27.36842105,\n",
       "       27.89473684, 28.42105263, 28.94736842, 29.47368421, 30.        ])"
      ]
     },
     "execution_count": 63,
     "metadata": {},
     "output_type": "execute_result"
    }
   ],
   "source": [
    "y_axis"
   ]
  },
  {
   "cell_type": "code",
   "execution_count": 67,
   "id": "34aff7f5-e926-47ff-92d6-a9ced0a112ae",
   "metadata": {},
   "outputs": [],
   "source": [
    "import matplotlib.pyplot as plt\n",
    "import seaborn as sns"
   ]
  },
  {
   "cell_type": "code",
   "execution_count": 88,
   "id": "9f420ff5-2df4-4cbf-a845-9b915ff8df7c",
   "metadata": {},
   "outputs": [
    {
     "data": {
      "text/plain": [
       "<matplotlib.collections.PathCollection at 0x1aefdadb4d0>"
      ]
     },
     "execution_count": 88,
     "metadata": {},
     "output_type": "execute_result"
    },
    {
     "data": {
      "image/png": "[encoded data removed]",
      "text/plain": [
       "<Figure size 500x300 with 1 Axes>"
      ]
     },
     "metadata": {},
     "output_type": "display_data"
    }
   ],
   "source": [
    "plt.figure(figsize=(5, 3))\n",
    "plt.scatter(x=x_axis, y=y_axis)"
   ]
  },
  {
   "cell_type": "code",
   "execution_count": 89,
   "id": "0e507740-c3be-4569-b3ea-bdcd10707ff8",
   "metadata": {},
   "outputs": [
    {
     "data": {
      "text/plain": [
       "<Axes: >"
      ]
     },
     "execution_count": 89,
     "metadata": {},
     "output_type": "execute_result"
    },
    {
     "data": {
      "image/png": "[encoded data removed]",
      "text/plain": [
       "<Figure size 500x300 with 1 Axes>"
      ]
     },
     "metadata": {},
     "output_type": "display_data"
    }
   ],
   "source": [
    "plt.figure(figsize=(5, 3))\n",
    "sns.regplot(x=x_axis, y=y_axis)\n",
    "sns.regplot(x=x_axis, y=y_axis)"
   ]
  },
  {
   "cell_type": "code",
   "execution_count": 90,
   "id": "4db9e370-9102-4c07-8d5e-ee38dfb93d28",
   "metadata": {},
   "outputs": [
    {
     "data": {
      "text/plain": [
       "<Axes: >"
      ]
     },
     "execution_count": 90,
     "metadata": {},
     "output_type": "execute_result"
    },
    {
     "data": {
      "image/png": "[encoded data removed]",
      "text/plain": [
       "<Figure size 500x300 with 1 Axes>"
      ]
     },
     "metadata": {},
     "output_type": "display_data"
    }
   ],
   "source": [
    "plt.figure(figsize=(5, 3))\n",
    "sns.regplot(x=x_axis, y=y_axis, ci=None, marker='o')\n"
   ]
  },
  {
   "cell_type": "code",
   "execution_count": 91,
   "id": "7f5bc31d-e0fa-49ae-80a6-ea6a0ca8ffdd",
   "metadata": {},
   "outputs": [
    {
     "data": {
      "text/plain": [
       "<BarContainer object of 20 artists>"
      ]
     },
     "execution_count": 91,
     "metadata": {},
     "output_type": "execute_result"
    },
    {
     "data": {
      "image/png": "[encoded data removed]",
      "text/plain": [
       "<Figure size 500x300 with 1 Axes>"
      ]
     },
     "metadata": {},
     "output_type": "display_data"
    }
   ],
   "source": [
    "plt.figure(figsize=(5, 3))\n",
    "plt.bar(x_axis, y_axis, color=\"green\")"
   ]
  },
  {
   "cell_type": "code",
   "execution_count": null,
   "id": "751e71ad-8065-4608-a0e9-d542f19e86fd",
   "metadata": {},
   "outputs": [],
   "source": []
  },
  {
   "cell_type": "code",
   "execution_count": 93,
   "id": "c661dcc0-662c-4709-a25e-b5868947b200",
   "metadata": {},
   "outputs": [
    {
     "data": {
      "text/plain": [
       "(array([4., 4., 4., 4., 4.]),\n",
       " array([20., 22., 24., 26., 28., 30.]),\n",
       " <BarContainer object of 5 artists>)"
      ]
     },
     "execution_count": 93,
     "metadata": {},
     "output_type": "execute_result"
    },
    {
     "data": {
      "image/png": "[encoded data removed]",
      "text/plain": [
       "<Figure size 500x300 with 1 Axes>"
      ]
     },
     "metadata": {},
     "output_type": "display_data"
    }
   ],
   "source": [
    "plt.figure(figsize=(5, 3))\n",
    "plt.hist(y_axis, bins=5, color=\"orange\", edgecolor=\"black\")"
   ]
  },
  {
   "cell_type": "code",
   "execution_count": 94,
   "id": "02400481-b249-4d0c-aef1-2df03f8ecfd5",
   "metadata": {},
   "outputs": [
    {
     "data": {
      "text/plain": [
       "<StemContainer object of 3 artists>"
      ]
     },
     "execution_count": 94,
     "metadata": {},
     "output_type": "execute_result"
    },
    {
     "data": {
      "image/png": "[encoded data removed]",
      "text/plain": [
       "<Figure size 500x300 with 1 Axes>"
      ]
     },
     "metadata": {},
     "output_type": "display_data"
    }
   ],
   "source": [
    "\n",
    "plt.figure(figsize=(5, 3))\n",
    "plt.stem(x_axis, y_axis, linefmt=\"g-\", markerfmt=\"ro\", basefmt=\"k-\")"
   ]
  },
  {
   "cell_type": "code",
   "execution_count": 80,
   "id": "5571a0ab-0400-4180-88dd-00bb9abe9d4a",
   "metadata": {},
   "outputs": [
    {
     "data": {
      "text/plain": [
       "<Figure size 1400x1000 with 0 Axes>"
      ]
     },
     "execution_count": 80,
     "metadata": {},
     "output_type": "execute_result"
    },
    {
     "data": {
      "text/plain": [
       "<Figure size 1400x1000 with 0 Axes>"
      ]
     },
     "metadata": {},
     "output_type": "display_data"
    }
   ],
   "source": [
    "plt.figure(figsize=(14, 10))"
   ]
  },
  {
   "cell_type": "code",
   "execution_count": 99,
   "id": "1cc9b960-897c-465e-9e04-39946a5d531d",
   "metadata": {},
   "outputs": [
    {
     "data": {
      "text/plain": [
       "<matplotlib.collections.PolyCollection at 0x1ae829319a0>"
      ]
     },
     "execution_count": 99,
     "metadata": {},
     "output_type": "execute_result"
    },
    {
     "data": {
      "image/png": "[encoded data removed]",
      "text/plain": [
       "<Figure size 500x300 with 1 Axes>"
      ]
     },
     "metadata": {},
     "output_type": "display_data"
    }
   ],
   "source": [
    "plt.figure(figsize=(5,3))\n",
    "plt.fill_between(x_axis, y_axis, color=\"skyblue\", alpha=0.5)"
   ]
  },
  {
   "cell_type": "code",
   "execution_count": null,
   "id": "5dafe925-b2b1-4ceb-811c-fdd1b88653f0",
   "metadata": {},
   "outputs": [],
   "source": []
  },
  {
   "cell_type": "code",
   "execution_count": null,
   "id": "55f3dd91-434f-4906-9bfa-6f6c6a12b08d",
   "metadata": {},
   "outputs": [],
   "source": []
  },
  {
   "cell_type": "code",
   "execution_count": null,
   "id": "283470dd-34f6-45cd-807d-c6951c6d724a",
   "metadata": {},
   "outputs": [],
   "source": [
    "\n"
   ]
  },
  {
   "cell_type": "code",
   "execution_count": 105,
   "id": "61568146-4c4b-4bad-9035-de07ae8dcd20",
   "metadata": {},
   "outputs": [
    {
     "data": {
      "text/plain": [
       "<Axes: ylabel='Density'>"
      ]
     },
     "execution_count": 105,
     "metadata": {},
     "output_type": "execute_result"
    },
    {
     "data": {
      "image/png": "[encoded data removed]",
      "text/plain": [
       "<Figure size 500x300 with 1 Axes>"
      ]
     },
     "metadata": {},
     "output_type": "display_data"
    }
   ],
   "source": [
    "\n",
    "plt.figure(figsize=(5, 3))\n",
    "sns.kdeplot(x_axis)"
   ]
  },
  {
   "cell_type": "code",
   "execution_count": 107,
   "id": "41950dd8-8413-43c0-bec5-1ef62a5e9bfc",
   "metadata": {},
   "outputs": [
    {
     "data": {
      "text/plain": [
       "<Axes: ylabel='Count'>"
      ]
     },
     "execution_count": 107,
     "metadata": {},
     "output_type": "execute_result"
    },
    {
     "data": {
      "image/png": "[encoded data removed]",
      "text/plain": [
       "<Figure size 500x300 with 1 Axes>"
      ]
     },
     "metadata": {},
     "output_type": "display_data"
    }
   ],
   "source": [
    "plt.figure(figsize=(5, 3))\n",
    "sns.histplot(x_axis)"
   ]
  },
  {
   "cell_type": "markdown",
   "id": "7cfe4fa8-5999-4fd2-a4b1-778b12cf2ff0",
   "metadata": {},
   "source": [
    "#appending and joining array\n",
    "# join singal dimentional"
   ]
  },
  {
   "cell_type": "code",
   "execution_count": 108,
   "id": "5f84a4d0-1e4c-4398-93d6-0ea2c7eab502",
   "metadata": {},
   "outputs": [],
   "source": [
    "a1= np.array([10,20,3,4,6])"
   ]
  },
  {
   "cell_type": "code",
   "execution_count": 109,
   "id": "a8075fdd-7e15-4453-9fd7-e5bc210db9d4",
   "metadata": {},
   "outputs": [
    {
     "data": {
      "text/plain": [
       "array([10, 20,  3,  4,  6])"
      ]
     },
     "execution_count": 109,
     "metadata": {},
     "output_type": "execute_result"
    }
   ],
   "source": [
    "a1"
   ]
  },
  {
   "cell_type": "code",
   "execution_count": 110,
   "id": "def513a0-07f9-4c05-a5c5-0ea2c9d598cc",
   "metadata": {},
   "outputs": [],
   "source": [
    "a2=np.array([4,5,10,16,20])"
   ]
  },
  {
   "cell_type": "code",
   "execution_count": 111,
   "id": "7d9c6b8e-2110-4153-ad43-1916715141c8",
   "metadata": {},
   "outputs": [
    {
     "data": {
      "text/plain": [
       "array([ 4,  5, 10, 16, 20])"
      ]
     },
     "execution_count": 111,
     "metadata": {},
     "output_type": "execute_result"
    }
   ],
   "source": [
    "a2"
   ]
  },
  {
   "cell_type": "code",
   "execution_count": 112,
   "id": "858c7b2b-f8fa-4457-8671-d2151727cc46",
   "metadata": {},
   "outputs": [],
   "source": [
    "li1=(10,54,56,23,40)\n",
    "li2=(20,10,56,34,21)"
   ]
  },
  {
   "cell_type": "code",
   "execution_count": 113,
   "id": "97922391-70d4-4973-b402-ce88a005dbc1",
   "metadata": {},
   "outputs": [
    {
     "data": {
      "text/plain": [
       "(10, 54, 56, 23, 40, 20, 10, 56, 34, 21)"
      ]
     },
     "execution_count": 113,
     "metadata": {},
     "output_type": "execute_result"
    }
   ],
   "source": [
    "li1+li2"
   ]
  },
  {
   "cell_type": "code",
   "execution_count": 114,
   "id": "65ee90ad-6770-4dfa-85e1-853325056e36",
   "metadata": {},
   "outputs": [
    {
     "data": {
      "text/plain": [
       "array([14, 25, 13, 20, 26])"
      ]
     },
     "execution_count": 114,
     "metadata": {},
     "output_type": "execute_result"
    }
   ],
   "source": [
    "a1+a2"
   ]
  },
  {
   "cell_type": "code",
   "execution_count": 116,
   "id": "0b1108ba-0331-4148-aca9-6a2c89529b47",
   "metadata": {},
   "outputs": [],
   "source": [
    "a3=np.concatenate((a1,a2))"
   ]
  },
  {
   "cell_type": "code",
   "execution_count": 117,
   "id": "4ef24fb3-7d66-4d74-838d-5e90cc5e910d",
   "metadata": {},
   "outputs": [
    {
     "data": {
      "text/plain": [
       "array([10, 20,  3,  4,  6,  4,  5, 10, 16, 20])"
      ]
     },
     "execution_count": 117,
     "metadata": {},
     "output_type": "execute_result"
    }
   ],
   "source": [
    "a3"
   ]
  },
  {
   "cell_type": "code",
   "execution_count": 21,
   "id": "26f6287a-d6ab-4a2d-82bc-33f80ed57f4e",
   "metadata": {},
   "outputs": [],
   "source": [
    "mat_a = np.arange(10,16)\n"
   ]
  },
  {
   "cell_type": "code",
   "execution_count": 22,
   "id": "723ef5b0-946c-489d-a2a2-04a7e9c17a4e",
   "metadata": {},
   "outputs": [
    {
     "data": {
      "text/plain": [
       "array([10, 11, 12, 13, 14, 15])"
      ]
     },
     "execution_count": 22,
     "metadata": {},
     "output_type": "execute_result"
    }
   ],
   "source": [
    "mat_a"
   ]
  },
  {
   "cell_type": "code",
   "execution_count": 23,
   "id": "8ae43a6f-2cc5-4145-8565-e5d26878cea0",
   "metadata": {},
   "outputs": [],
   "source": [
    "mat_a = mat_a.reshape(2,3)"
   ]
  },
  {
   "cell_type": "code",
   "execution_count": 24,
   "id": "8f3e526d-1d54-4bfe-b44b-90d925e6f4ae",
   "metadata": {},
   "outputs": [
    {
     "data": {
      "text/plain": [
       "array([[10, 11, 12],\n",
       "       [13, 14, 15]])"
      ]
     },
     "execution_count": 24,
     "metadata": {},
     "output_type": "execute_result"
    }
   ],
   "source": [
    "mat_a"
   ]
  },
  {
   "cell_type": "code",
   "execution_count": 26,
   "id": "a5dd43a9-2538-40c7-8818-a5a81b470e49",
   "metadata": {},
   "outputs": [],
   "source": [
    "mat_b = np.arange(100, 106) "
   ]
  },
  {
   "cell_type": "code",
   "execution_count": 27,
   "id": "bd865fa5-352b-4670-bd32-794ea32c63d0",
   "metadata": {},
   "outputs": [],
   "source": [
    "mat_b=mat_b.reshape([2,3])"
   ]
  },
  {
   "cell_type": "code",
   "execution_count": 28,
   "id": "7412ba74-e130-46ce-8ab4-b2d9eb1a9f80",
   "metadata": {},
   "outputs": [
    {
     "data": {
      "text/plain": [
       "array([[100, 101, 102],\n",
       "       [103, 104, 105]])"
      ]
     },
     "execution_count": 28,
     "metadata": {},
     "output_type": "execute_result"
    }
   ],
   "source": [
    "mat_b"
   ]
  },
  {
   "cell_type": "code",
   "execution_count": 31,
   "id": "a3f2f30c-2d55-445d-ab4b-b84c610a1c0f",
   "metadata": {},
   "outputs": [
    {
     "data": {
      "text/plain": [
       "array([[ 10,  11,  12],\n",
       "       [ 13,  14,  15],\n",
       "       [100, 101, 102],\n",
       "       [103, 104, 105]])"
      ]
     },
     "execution_count": 31,
     "metadata": {},
     "output_type": "execute_result"
    }
   ],
   "source": [
    "#np.concatenate(mat_a,mat_b,(axis=0))\n",
    "np.concatenate((mat_a, mat_b), axis=0) # vertical printing\n"
   ]
  },
  {
   "cell_type": "code",
   "execution_count": 32,
   "id": "643f0421-b985-40d8-bc3b-f687cb6d4cce",
   "metadata": {},
   "outputs": [
    {
     "data": {
      "text/plain": [
       "array([[ 10,  11,  12, 100, 101, 102],\n",
       "       [ 13,  14,  15, 103, 104, 105]])"
      ]
     },
     "execution_count": 32,
     "metadata": {},
     "output_type": "execute_result"
    }
   ],
   "source": [
    "np.concatenate((mat_a, mat_b), axis=1)# horizental printing\n"
   ]
  },
  {
   "cell_type": "code",
   "execution_count": 33,
   "id": "55cd2869-6832-482d-8332-2d8e45b24a8b",
   "metadata": {},
   "outputs": [],
   "source": [
    "#spliting of array\n",
    "arr=np.array([10,20,30,4,5,6,60,70,90])"
   ]
  },
  {
   "cell_type": "code",
   "execution_count": 34,
   "id": "9255dc46-9dec-42c1-9a2f-01f977263b0d",
   "metadata": {},
   "outputs": [],
   "source": [
    "A=np.array_split(arr,2)"
   ]
  },
  {
   "cell_type": "code",
   "execution_count": 35,
   "id": "2d4a27b5-ca88-4952-8f75-d243a8449de9",
   "metadata": {},
   "outputs": [
    {
     "data": {
      "text/plain": [
       "[array([10, 20, 30,  4,  5]), array([ 6, 60, 70, 90])]"
      ]
     },
     "execution_count": 35,
     "metadata": {},
     "output_type": "execute_result"
    }
   ],
   "source": [
    "A"
   ]
  },
  {
   "cell_type": "code",
   "execution_count": 37,
   "id": "cb78efa0-b21c-4397-a531-6caa394f54c8",
   "metadata": {},
   "outputs": [],
   "source": [
    "b=np.array([10,20,30,40])"
   ]
  },
  {
   "cell_type": "code",
   "execution_count": 40,
   "id": "f805be23-5d1d-41b0-9d27-bcda78fbb322",
   "metadata": {},
   "outputs": [
    {
     "data": {
      "text/plain": [
       "[array([10, 20]), array([30, 40])]"
      ]
     },
     "execution_count": 40,
     "metadata": {},
     "output_type": "execute_result"
    }
   ],
   "source": [
    "np.split(b,2)"
   ]
  },
  {
   "cell_type": "code",
   "execution_count": 41,
   "id": "9138e1c2-2f79-43f1-93d0-a7e5ce7c481f",
   "metadata": {},
   "outputs": [],
   "source": [
    "matrix_c=np.array([[1,2,3,4],[5,6,7,8]])"
   ]
  },
  {
   "cell_type": "code",
   "execution_count": 42,
   "id": "eb5594be-828c-4328-bd10-46d1068d03ea",
   "metadata": {},
   "outputs": [
    {
     "data": {
      "text/plain": [
       "array([[1, 2, 3, 4],\n",
       "       [5, 6, 7, 8]])"
      ]
     },
     "execution_count": 42,
     "metadata": {},
     "output_type": "execute_result"
    }
   ],
   "source": [
    "matrix_c"
   ]
  },
  {
   "cell_type": "code",
   "execution_count": 45,
   "id": "6f655c16-6d05-43ee-9ff6-4449e6daf416",
   "metadata": {},
   "outputs": [
    {
     "data": {
      "text/plain": [
       "[array([[1, 2, 3, 4]]), array([[5, 6, 7, 8]])]"
      ]
     },
     "execution_count": 45,
     "metadata": {},
     "output_type": "execute_result"
    }
   ],
   "source": [
    "np.split(matrix_c,2)"
   ]
  },
  {
   "cell_type": "code",
   "execution_count": null,
   "id": "f45b7c7a-a949-402f-920c-9e52678f8db3",
   "metadata": {},
   "outputs": [],
   "source": [
    "#inserting array singal or duuble dimensional array"
   ]
  },
  {
   "cell_type": "code",
   "execution_count": 46,
   "id": "aa597035-67b0-4db5-9656-9a58251b4d79",
   "metadata": {},
   "outputs": [],
   "source": [
    "li=np.array([10,20,30,40,50])"
   ]
  },
  {
   "cell_type": "raw",
   "id": "aad4b323-8105-4aa7-90a9-f1aa65f490cf",
   "metadata": {},
   "source": [
    "li"
   ]
  },
  {
   "cell_type": "code",
   "execution_count": 47,
   "id": "baa11230-f8df-42ef-afb4-06062319ae90",
   "metadata": {},
   "outputs": [
    {
     "data": {
      "text/plain": [
       "array([10, 20, 25, 30, 40, 50])"
      ]
     },
     "execution_count": 47,
     "metadata": {},
     "output_type": "execute_result"
    }
   ],
   "source": [
    "np.insert(li,2,25)"
   ]
  },
  {
   "cell_type": "code",
   "execution_count": 98,
   "id": "8c0a60ba-a4dc-44d0-aaa5-96b221021908",
   "metadata": {},
   "outputs": [],
   "source": [
    "double_li=([[1,4,5],[4,6,7],[3,6,8]])"
   ]
  },
  {
   "cell_type": "code",
   "execution_count": 99,
   "id": "9e0c22cb-1780-452e-943f-a932bf2d51c5",
   "metadata": {},
   "outputs": [
    {
     "data": {
      "text/plain": [
       "[[1, 4, 5], [4, 6, 7], [3, 6, 8]]"
      ]
     },
     "execution_count": 99,
     "metadata": {},
     "output_type": "execute_result"
    }
   ],
   "source": [
    "double_li"
   ]
  },
  {
   "cell_type": "code",
   "execution_count": 100,
   "id": "c694c4f6-7bbc-4b23-b864-264c14fdb8e3",
   "metadata": {},
   "outputs": [
    {
     "data": {
      "text/plain": [
       "array([[1, 4, 5],\n",
       "       [4, 6, 7],\n",
       "       [2, 2, 2],\n",
       "       [3, 6, 8]])"
      ]
     },
     "execution_count": 100,
     "metadata": {},
     "output_type": "execute_result"
    }
   ],
   "source": [
    "np.insert(double_li,2,[2,2,2],axis=0)"
   ]
  },
  {
   "cell_type": "code",
   "execution_count": 101,
   "id": "2e278bcb-cf8e-472f-8f3d-5ea017d2597b",
   "metadata": {},
   "outputs": [],
   "source": [
    "D=np.insert(double_li,2,[5,5,5],axis=1)"
   ]
  },
  {
   "cell_type": "code",
   "execution_count": 102,
   "id": "e6610fdb-323e-4619-898c-df6f9eebcb2b",
   "metadata": {},
   "outputs": [
    {
     "data": {
      "text/plain": [
       "array([[1, 4, 5, 5],\n",
       "       [4, 6, 5, 7],\n",
       "       [3, 6, 5, 8]])"
      ]
     },
     "execution_count": 102,
     "metadata": {},
     "output_type": "execute_result"
    }
   ],
   "source": [
    "D"
   ]
  },
  {
   "cell_type": "code",
   "execution_count": 103,
   "id": "57416cf3-0b39-4c70-986f-6eb4d5778164",
   "metadata": {},
   "outputs": [],
   "source": [
    "#slicing and indexing "
   ]
  },
  {
   "cell_type": "code",
   "execution_count": 104,
   "id": "d5e0e9d5-4026-4215-bceb-2c79fb588ee6",
   "metadata": {},
   "outputs": [
    {
     "data": {
      "text/plain": [
       "array([1, 4, 5, 5])"
      ]
     },
     "execution_count": 104,
     "metadata": {},
     "output_type": "execute_result"
    }
   ],
   "source": [
    "D[0,:]"
   ]
  },
  {
   "cell_type": "code",
   "execution_count": 105,
   "id": "0c88ddb2-a2ab-44c4-9809-890bb0b994b6",
   "metadata": {},
   "outputs": [
    {
     "data": {
      "text/plain": [
       "array([[4, 6, 5, 7],\n",
       "       [3, 6, 5, 8]])"
      ]
     },
     "execution_count": 105,
     "metadata": {},
     "output_type": "execute_result"
    }
   ],
   "source": [
    "D[1:3]"
   ]
  },
  {
   "cell_type": "code",
   "execution_count": 106,
   "id": "cd7e0f6c-c8b5-4a39-b194-4e80726e78d7",
   "metadata": {},
   "outputs": [],
   "source": [
    "# D = arr[0:2, :]"
   ]
  },
  {
   "cell_type": "code",
   "execution_count": 107,
   "id": "5bb53301-83fa-4f6d-812c-27f78d575522",
   "metadata": {},
   "outputs": [],
   "source": [
    " # D = arr[:, 0:2]"
   ]
  },
  {
   "cell_type": "code",
   "execution_count": 108,
   "id": "14580759-8d7a-423d-b3ba-b314287fd9f0",
   "metadata": {},
   "outputs": [],
   "source": [
    "# D = arr[-1, -2:]"
   ]
  },
  {
   "cell_type": "code",
   "execution_count": 109,
   "id": "2ec98938-87ec-4d7a-b3ba-9913ac9512ed",
   "metadata": {},
   "outputs": [],
   "source": [
    "#D = arr[0:2,1:4]"
   ]
  },
  {
   "cell_type": "code",
   "execution_count": 110,
   "id": "74934e18-356c-4015-af75-04e0faa201ca",
   "metadata": {},
   "outputs": [],
   "source": [
    "# D = arr[:, ::2]"
   ]
  },
  {
   "cell_type": "code",
   "execution_count": 111,
   "id": "9ad51caf-57e5-4105-8d19-ea19d427e4e3",
   "metadata": {},
   "outputs": [],
   "source": [
    "#boolean idexing\n",
    "#filter only the num from array even or odd"
   ]
  },
  {
   "cell_type": "code",
   "execution_count": 112,
   "id": "7a70bdd4-984d-4dc2-820e-f6b8c9a6374a",
   "metadata": {},
   "outputs": [
    {
     "data": {
      "text/plain": [
       "[array([[False,  True, False, False],\n",
       "        [ True,  True, False, False],\n",
       "        [False,  True, False,  True]])]"
      ]
     },
     "execution_count": 112,
     "metadata": {},
     "output_type": "execute_result"
    }
   ],
   "source": [
    "[D%2==0]"
   ]
  },
  {
   "cell_type": "code",
   "execution_count": 113,
   "id": "e6364b41-f8fc-4de7-aa62-0e6c38911ddd",
   "metadata": {},
   "outputs": [
    {
     "data": {
      "text/plain": [
       "array([[False,  True, False, False],\n",
       "       [ True,  True, False, False],\n",
       "       [False,  True, False,  True]])"
      ]
     },
     "execution_count": 113,
     "metadata": {},
     "output_type": "execute_result"
    }
   ],
   "source": [
    "D%2==0"
   ]
  },
  {
   "cell_type": "code",
   "execution_count": 114,
   "id": "54e993d3-1e06-4f4b-9d78-4c07c7b072ac",
   "metadata": {},
   "outputs": [
    {
     "data": {
      "text/plain": [
       "array([[10, 11, 12],\n",
       "       [13, 14, 15]])"
      ]
     },
     "execution_count": 114,
     "metadata": {},
     "output_type": "execute_result"
    }
   ],
   "source": [
    "#vectorization in python\n",
    "mat_a"
   ]
  },
  {
   "cell_type": "code",
   "execution_count": 115,
   "id": "0c071571-32ef-4e34-a2ba-48b140f48311",
   "metadata": {},
   "outputs": [
    {
     "data": {
      "text/plain": [
       "array([[100, 101, 102],\n",
       "       [103, 104, 105]])"
      ]
     },
     "execution_count": 115,
     "metadata": {},
     "output_type": "execute_result"
    }
   ],
   "source": [
    "mat_b"
   ]
  },
  {
   "cell_type": "code",
   "execution_count": 116,
   "id": "9229b487-91ec-4ac5-a011-92120d11dffb",
   "metadata": {},
   "outputs": [
    {
     "data": {
      "text/plain": [
       "array([[110, 112, 114],\n",
       "       [116, 118, 120]])"
      ]
     },
     "execution_count": 116,
     "metadata": {},
     "output_type": "execute_result"
    }
   ],
   "source": [
    "mat_a+mat_b"
   ]
  },
  {
   "cell_type": "code",
   "execution_count": 117,
   "id": "1c4e0882-7c15-4ec3-b615-928617f51c6d",
   "metadata": {},
   "outputs": [
    {
     "data": {
      "text/plain": [
       "array([[-90, -90, -90],\n",
       "       [-90, -90, -90]])"
      ]
     },
     "execution_count": 117,
     "metadata": {},
     "output_type": "execute_result"
    }
   ],
   "source": [
    "mat_a-mat_b"
   ]
  },
  {
   "cell_type": "code",
   "execution_count": 118,
   "id": "5508c4b6-c959-4d32-9c7e-c8d167512b5c",
   "metadata": {},
   "outputs": [
    {
     "data": {
      "text/plain": [
       "array([[1000, 1111, 1224],\n",
       "       [1339, 1456, 1575]])"
      ]
     },
     "execution_count": 118,
     "metadata": {},
     "output_type": "execute_result"
    }
   ],
   "source": [
    "mat_a*mat_b"
   ]
  },
  {
   "cell_type": "code",
   "execution_count": null,
   "id": "c4912d45-f1ab-43fb-a093-a4b758da727d",
   "metadata": {},
   "outputs": [],
   "source": [
    "#broadcosting in python"
   ]
  },
  {
   "cell_type": "code",
   "execution_count": 119,
   "id": "35953a60-bbc6-4e7f-87b1-2f21da6dfc1c",
   "metadata": {},
   "outputs": [],
   "source": [
    "a = np.array([[1,2,3,4],[4,5,6,7]])"
   ]
  },
  {
   "cell_type": "code",
   "execution_count": 120,
   "id": "80ccc7b8-cb3f-4207-a454-d1bfea70a6ee",
   "metadata": {},
   "outputs": [
    {
     "data": {
      "text/plain": [
       "array([[1, 2, 3, 4],\n",
       "       [4, 5, 6, 7]])"
      ]
     },
     "execution_count": 120,
     "metadata": {},
     "output_type": "execute_result"
    }
   ],
   "source": [
    "a"
   ]
  },
  {
   "cell_type": "code",
   "execution_count": 121,
   "id": "dd4bb89a-e46f-4739-b199-26ff3f6dc990",
   "metadata": {},
   "outputs": [],
   "source": [
    "b=np.array([2,3,2])"
   ]
  },
  {
   "cell_type": "code",
   "execution_count": 125,
   "id": "4928ba1e-7683-4d9e-8971-526dbc6aaf59",
   "metadata": {},
   "outputs": [
    {
     "data": {
      "text/plain": [
       "array([2, 3, 2])"
      ]
     },
     "execution_count": 125,
     "metadata": {},
     "output_type": "execute_result"
    }
   ],
   "source": [
    "b"
   ]
  },
  {
   "cell_type": "code",
   "execution_count": 127,
   "id": "d285701a-f353-44f9-9197-1054b298c1ac",
   "metadata": {},
   "outputs": [
    {
     "ename": "ValueError",
     "evalue": "operands could not be broadcast together with shapes (2,4) (3,) ",
     "output_type": "error",
     "traceback": [
      "\u001b[1;31m---------------------------------------------------------------------------\u001b[0m",
      "\u001b[1;31mValueError\u001b[0m                                Traceback (most recent call last)",
      "Cell \u001b[1;32mIn[127], line 1\u001b[0m\n\u001b[1;32m----> 1\u001b[0m a\u001b[38;5;241m+\u001b[39mb\n",
      "\u001b[1;31mValueError\u001b[0m: operands could not be broadcast together with shapes (2,4) (3,) "
     ]
    }
   ],
   "source": [
    "a+b"
   ]
  },
  {
   "cell_type": "code",
   "execution_count": 128,
   "id": "8e5bdc2b-f758-4832-9aaa-9aeafb50772d",
   "metadata": {},
   "outputs": [],
   "source": [
    "c=np.array([2,2])"
   ]
  },
  {
   "cell_type": "code",
   "execution_count": 129,
   "id": "553bdf2b-b1b0-45f3-8813-aa19a59a3eec",
   "metadata": {},
   "outputs": [
    {
     "data": {
      "text/plain": [
       "array([2, 2])"
      ]
     },
     "execution_count": 129,
     "metadata": {},
     "output_type": "execute_result"
    }
   ],
   "source": [
    "c"
   ]
  },
  {
   "cell_type": "code",
   "execution_count": 130,
   "id": "b3357ee2-70b7-41df-b57f-ebcd477d4e0d",
   "metadata": {},
   "outputs": [
    {
     "data": {
      "text/plain": [
       "(2,)"
      ]
     },
     "execution_count": 130,
     "metadata": {},
     "output_type": "execute_result"
    }
   ],
   "source": [
    "c.shape"
   ]
  },
  {
   "cell_type": "code",
   "execution_count": 132,
   "id": "2a72a40c-eb6b-4dd8-90ed-e522d4dd60ca",
   "metadata": {},
   "outputs": [
    {
     "data": {
      "text/plain": [
       "array([[2, 2]])"
      ]
     },
     "execution_count": 132,
     "metadata": {},
     "output_type": "execute_result"
    }
   ],
   "source": [
    "c.reshape(1,2)"
   ]
  },
  {
   "cell_type": "code",
   "execution_count": null,
   "id": "01a2e969-6d3a-44b6-a87e-e2185eaedfbd",
   "metadata": {},
   "outputs": [],
   "source": []
  }
 ],
 "metadata": {
  "kernelspec": {
   "display_name": "Python 3 (ipykernel)",
   "language": "python",
   "name": "python3"
  },
  "language_info": {
   "codemirror_mode": {
    "name": "ipython",
    "version": 3
   },
   "file_extension": ".py",
   "mimetype": "text/x-python",
   "name": "python",
   "nbconvert_exporter": "python",
   "pygments_lexer": "ipython3",
   "version": "3.12.7"
  }
 },
 "nbformat": 4,
 "nbformat_minor": 5
}
