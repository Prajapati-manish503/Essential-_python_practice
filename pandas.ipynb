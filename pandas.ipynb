{
 "cells": [
  {
   "cell_type": "code",
   "execution_count": 2,
   "id": "8ddde5ed-6561-4bf6-a7ae-c64e47bf2231",
   "metadata": {},
   "outputs": [],
   "source": [
    "import numpy as np\n",
    "import pandas as pd\n"
   ]
  },
  {
   "cell_type": "code",
   "execution_count": 3,
   "id": "905208e5-92e7-46d7-bb2d-f3045da00159",
   "metadata": {},
   "outputs": [],
   "source": [
    "#create product table\n",
    "li_id=[100,101,102,103,104]\n",
    "li_name=[\"Shampoo\",\"Deodorant\",\"Tooth Paste\",\"Soap\",\"Hair gel\"]\n",
    "li_comp=[\"Pamnteen\",\"Park Avenue\",\"Colgate\",\"Lux\",\"Laureal\"]\n"
   ]
  },
  {
   "cell_type": "code",
   "execution_count": 4,
   "id": "04bb695d-a555-4159-b424-20e59d64933a",
   "metadata": {},
   "outputs": [],
   "source": [
    "d1={\"product_id\":li_id,\"product_name\":li_name,\"company_name\":li_comp}"
   ]
  },
  {
   "cell_type": "code",
   "execution_count": 5,
   "id": "098924ad-225e-4100-ad36-59078f23b20e",
   "metadata": {
    "scrolled": true
   },
   "outputs": [
    {
     "data": {
      "text/plain": [
       "{'product_id': [100, 101, 102, 103, 104],\n",
       " 'product_name': ['Shampoo', 'Deodorant', 'Tooth Paste', 'Soap', 'Hair gel'],\n",
       " 'company_name': ['Pamnteen', 'Park Avenue', 'Colgate', 'Lux', 'Laureal']}"
      ]
     },
     "execution_count": 5,
     "metadata": {},
     "output_type": "execute_result"
    }
   ],
   "source": [
    "d1\n"
   ]
  },
  {
   "cell_type": "code",
   "execution_count": 6,
   "id": "9497e9b1-8554-403f-a199-b43e56120617",
   "metadata": {},
   "outputs": [],
   "source": [
    "product=pd.DataFrame(d1)"
   ]
  },
  {
   "cell_type": "code",
   "execution_count": 7,
   "id": "8afb79da-6ee1-40d7-aad5-b9e124c498de",
   "metadata": {},
   "outputs": [
    {
     "data": {
      "text/html": [
       "<div>\n",
       "<style scoped>\n",
       "    .dataframe tbody tr th:only-of-type {\n",
       "        vertical-align: middle;\n",
       "    }\n",
       "\n",
       "    .dataframe tbody tr th {\n",
       "        vertical-align: top;\n",
       "    }\n",
       "\n",
       "    .dataframe thead th {\n",
       "        text-align: right;\n",
       "    }\n",
       "</style>\n",
       "<table border=\"1\" class=\"dataframe\">\n",
       "  <thead>\n",
       "    <tr style=\"text-align: right;\">\n",
       "      <th></th>\n",
       "      <th>product_id</th>\n",
       "      <th>product_name</th>\n",
       "      <th>company_name</th>\n",
       "    </tr>\n",
       "  </thead>\n",
       "  <tbody>\n",
       "    <tr>\n",
       "      <th>0</th>\n",
       "      <td>100</td>\n",
       "      <td>Shampoo</td>\n",
       "      <td>Pamnteen</td>\n",
       "    </tr>\n",
       "    <tr>\n",
       "      <th>1</th>\n",
       "      <td>101</td>\n",
       "      <td>Deodorant</td>\n",
       "      <td>Park Avenue</td>\n",
       "    </tr>\n",
       "    <tr>\n",
       "      <th>2</th>\n",
       "      <td>102</td>\n",
       "      <td>Tooth Paste</td>\n",
       "      <td>Colgate</td>\n",
       "    </tr>\n",
       "    <tr>\n",
       "      <th>3</th>\n",
       "      <td>103</td>\n",
       "      <td>Soap</td>\n",
       "      <td>Lux</td>\n",
       "    </tr>\n",
       "    <tr>\n",
       "      <th>4</th>\n",
       "      <td>104</td>\n",
       "      <td>Hair gel</td>\n",
       "      <td>Laureal</td>\n",
       "    </tr>\n",
       "  </tbody>\n",
       "</table>\n",
       "</div>"
      ],
      "text/plain": [
       "   product_id product_name company_name\n",
       "0         100      Shampoo     Pamnteen\n",
       "1         101    Deodorant  Park Avenue\n",
       "2         102  Tooth Paste      Colgate\n",
       "3         103         Soap          Lux\n",
       "4         104     Hair gel      Laureal"
      ]
     },
     "execution_count": 7,
     "metadata": {},
     "output_type": "execute_result"
    }
   ],
   "source": [
    "product"
   ]
  },
  {
   "cell_type": "code",
   "execution_count": 8,
   "id": "43e457c2-7be9-4b92-99ce-861d695852da",
   "metadata": {},
   "outputs": [],
   "source": [
    "product[\"price\"]=[50,100,150,200,350]"
   ]
  },
  {
   "cell_type": "code",
   "execution_count": 9,
   "id": "b32ee83e-037d-4a85-9a00-415c0125b09b",
   "metadata": {},
   "outputs": [],
   "source": [
    "#rename coolumn product_id =pid\n",
    "product.rename(columns={\"product_id\":\"pi_d\"},inplace= True)"
   ]
  },
  {
   "cell_type": "code",
   "execution_count": 10,
   "id": "6a797162-a1c7-4f79-bf7e-f0b35ae85d16",
   "metadata": {},
   "outputs": [
    {
     "data": {
      "text/html": [
       "<div>\n",
       "<style scoped>\n",
       "    .dataframe tbody tr th:only-of-type {\n",
       "        vertical-align: middle;\n",
       "    }\n",
       "\n",
       "    .dataframe tbody tr th {\n",
       "        vertical-align: top;\n",
       "    }\n",
       "\n",
       "    .dataframe thead th {\n",
       "        text-align: right;\n",
       "    }\n",
       "</style>\n",
       "<table border=\"1\" class=\"dataframe\">\n",
       "  <thead>\n",
       "    <tr style=\"text-align: right;\">\n",
       "      <th></th>\n",
       "      <th>pi_d</th>\n",
       "      <th>product_name</th>\n",
       "      <th>company_name</th>\n",
       "      <th>price</th>\n",
       "    </tr>\n",
       "  </thead>\n",
       "  <tbody>\n",
       "    <tr>\n",
       "      <th>0</th>\n",
       "      <td>100</td>\n",
       "      <td>Shampoo</td>\n",
       "      <td>Pamnteen</td>\n",
       "      <td>50</td>\n",
       "    </tr>\n",
       "    <tr>\n",
       "      <th>1</th>\n",
       "      <td>101</td>\n",
       "      <td>Deodorant</td>\n",
       "      <td>Park Avenue</td>\n",
       "      <td>100</td>\n",
       "    </tr>\n",
       "    <tr>\n",
       "      <th>2</th>\n",
       "      <td>102</td>\n",
       "      <td>Tooth Paste</td>\n",
       "      <td>Colgate</td>\n",
       "      <td>150</td>\n",
       "    </tr>\n",
       "    <tr>\n",
       "      <th>3</th>\n",
       "      <td>103</td>\n",
       "      <td>Soap</td>\n",
       "      <td>Lux</td>\n",
       "      <td>200</td>\n",
       "    </tr>\n",
       "    <tr>\n",
       "      <th>4</th>\n",
       "      <td>104</td>\n",
       "      <td>Hair gel</td>\n",
       "      <td>Laureal</td>\n",
       "      <td>350</td>\n",
       "    </tr>\n",
       "  </tbody>\n",
       "</table>\n",
       "</div>"
      ],
      "text/plain": [
       "   pi_d product_name company_name  price\n",
       "0   100      Shampoo     Pamnteen     50\n",
       "1   101    Deodorant  Park Avenue    100\n",
       "2   102  Tooth Paste      Colgate    150\n",
       "3   103         Soap          Lux    200\n",
       "4   104     Hair gel      Laureal    350"
      ]
     },
     "execution_count": 10,
     "metadata": {},
     "output_type": "execute_result"
    }
   ],
   "source": [
    "product"
   ]
  },
  {
   "cell_type": "code",
   "execution_count": 11,
   "id": "35d00bc7-a425-4eed-a618-f05df2972de4",
   "metadata": {},
   "outputs": [],
   "source": [
    "li_oid=[\"01\",\"02\",\"03\",\"04\",\"05\"]\n",
    "li_pid=[101,101,103,101,103]\n",
    "li_units=[30,5,25,10,200]\n",
    "li_coust=[\"lifestyle\",\"shopers_stop\",\"spencer\",\"food_bazaar\",\"big_bazaar\"]\n"
   ]
  },
  {
   "cell_type": "code",
   "execution_count": 12,
   "id": "433fca15-c80d-4f09-b53c-5fe79ede1c7e",
   "metadata": {},
   "outputs": [],
   "source": [
    "d2={\"oid\":li_oid,\"pid\":li_pid,\"no_of_unit\":li_units,\"coutomer_list\":li_coust}"
   ]
  },
  {
   "cell_type": "code",
   "execution_count": 13,
   "id": "4b5ac26c-29e1-4005-b54b-c854dd59abcf",
   "metadata": {},
   "outputs": [],
   "source": [
    "order=pd.DataFrame(d2)"
   ]
  },
  {
   "cell_type": "code",
   "execution_count": 14,
   "id": "e6879f81-71f5-4e5f-b3c1-4cbd5ff8bf34",
   "metadata": {},
   "outputs": [
    {
     "data": {
      "text/html": [
       "<div>\n",
       "<style scoped>\n",
       "    .dataframe tbody tr th:only-of-type {\n",
       "        vertical-align: middle;\n",
       "    }\n",
       "\n",
       "    .dataframe tbody tr th {\n",
       "        vertical-align: top;\n",
       "    }\n",
       "\n",
       "    .dataframe thead th {\n",
       "        text-align: right;\n",
       "    }\n",
       "</style>\n",
       "<table border=\"1\" class=\"dataframe\">\n",
       "  <thead>\n",
       "    <tr style=\"text-align: right;\">\n",
       "      <th></th>\n",
       "      <th>oid</th>\n",
       "      <th>pid</th>\n",
       "      <th>no_of_unit</th>\n",
       "      <th>coutomer_list</th>\n",
       "    </tr>\n",
       "  </thead>\n",
       "  <tbody>\n",
       "    <tr>\n",
       "      <th>0</th>\n",
       "      <td>01</td>\n",
       "      <td>101</td>\n",
       "      <td>30</td>\n",
       "      <td>lifestyle</td>\n",
       "    </tr>\n",
       "    <tr>\n",
       "      <th>1</th>\n",
       "      <td>02</td>\n",
       "      <td>101</td>\n",
       "      <td>5</td>\n",
       "      <td>shopers_stop</td>\n",
       "    </tr>\n",
       "    <tr>\n",
       "      <th>2</th>\n",
       "      <td>03</td>\n",
       "      <td>103</td>\n",
       "      <td>25</td>\n",
       "      <td>spencer</td>\n",
       "    </tr>\n",
       "    <tr>\n",
       "      <th>3</th>\n",
       "      <td>04</td>\n",
       "      <td>101</td>\n",
       "      <td>10</td>\n",
       "      <td>food_bazaar</td>\n",
       "    </tr>\n",
       "    <tr>\n",
       "      <th>4</th>\n",
       "      <td>05</td>\n",
       "      <td>103</td>\n",
       "      <td>200</td>\n",
       "      <td>big_bazaar</td>\n",
       "    </tr>\n",
       "  </tbody>\n",
       "</table>\n",
       "</div>"
      ],
      "text/plain": [
       "  oid  pid  no_of_unit coutomer_list\n",
       "0  01  101          30     lifestyle\n",
       "1  02  101           5  shopers_stop\n",
       "2  03  103          25       spencer\n",
       "3  04  101          10   food_bazaar\n",
       "4  05  103         200    big_bazaar"
      ]
     },
     "execution_count": 14,
     "metadata": {},
     "output_type": "execute_result"
    }
   ],
   "source": [
    "order"
   ]
  },
  {
   "cell_type": "code",
   "execution_count": 37,
   "id": "0b09ea06-0661-45da-b1d0-9103c61c7a69",
   "metadata": {},
   "outputs": [
    {
     "data": {
      "text/plain": [
       "(5, 4)"
      ]
     },
     "execution_count": 37,
     "metadata": {},
     "output_type": "execute_result"
    }
   ],
   "source": [
    "#print the dimention of product\n",
    "order.shape"
   ]
  },
  {
   "cell_type": "code",
   "execution_count": 18,
   "id": "910d4f93-2c36-4559-9ec6-2b2b0e6ee698",
   "metadata": {},
   "outputs": [
    {
     "data": {
      "text/plain": [
       "Index(['oid', 'pid', 'no_of_unit', 'coutomer_list'], dtype='object')"
      ]
     },
     "execution_count": 18,
     "metadata": {},
     "output_type": "execute_result"
    }
   ],
   "source": [
    "order.columns"
   ]
  },
  {
   "cell_type": "code",
   "execution_count": 19,
   "id": "abd85de0-067f-4c6e-9ef5-a31fcf21a9c2",
   "metadata": {},
   "outputs": [
    {
     "data": {
      "text/html": [
       "<div>\n",
       "<style scoped>\n",
       "    .dataframe tbody tr th:only-of-type {\n",
       "        vertical-align: middle;\n",
       "    }\n",
       "\n",
       "    .dataframe tbody tr th {\n",
       "        vertical-align: top;\n",
       "    }\n",
       "\n",
       "    .dataframe thead th {\n",
       "        text-align: right;\n",
       "    }\n",
       "</style>\n",
       "<table border=\"1\" class=\"dataframe\">\n",
       "  <thead>\n",
       "    <tr style=\"text-align: right;\">\n",
       "      <th></th>\n",
       "      <th>pi_d</th>\n",
       "      <th>product_name</th>\n",
       "      <th>company_name</th>\n",
       "      <th>price</th>\n",
       "    </tr>\n",
       "  </thead>\n",
       "  <tbody>\n",
       "    <tr>\n",
       "      <th>2</th>\n",
       "      <td>102</td>\n",
       "      <td>Tooth Paste</td>\n",
       "      <td>Colgate</td>\n",
       "      <td>150</td>\n",
       "    </tr>\n",
       "  </tbody>\n",
       "</table>\n",
       "</div>"
      ],
      "text/plain": [
       "   pi_d product_name company_name  price\n",
       "2   102  Tooth Paste      Colgate    150"
      ]
     },
     "execution_count": 19,
     "metadata": {},
     "output_type": "execute_result"
    }
   ],
   "source": [
    "#print the detail of toothpaste\n",
    "product[product[\"product_name\"]==\"Tooth Paste\"]"
   ]
  },
  {
   "cell_type": "code",
   "execution_count": 20,
   "id": "40f022c6-be9f-44e8-94ec-43d34539bcc1",
   "metadata": {},
   "outputs": [
    {
     "data": {
      "text/plain": [
       "1    101\n",
       "Name: pid, dtype: int64"
      ]
     },
     "execution_count": 20,
     "metadata": {},
     "output_type": "execute_result"
    }
   ],
   "source": [
    "#print the id of the product odered by shoper stop\n",
    "order[order[\"coutomer_list\"] == \"shopers_stop\"][\"pid\"]"
   ]
  },
  {
   "cell_type": "code",
   "execution_count": null,
   "id": "8112d55a-a43b-4242-aa2c-0d25ae219cfc",
   "metadata": {},
   "outputs": [],
   "source": [
    "\n"
   ]
  },
  {
   "cell_type": "code",
   "execution_count": 21,
   "id": "c6b8fc90-f151-4eec-9436-5410c7dc5937",
   "metadata": {},
   "outputs": [],
   "source": [
    "#merged = pd.merge(product, order, how=\"inner\", on=\"p_id\")\n",
    "merged = pd.merge(product, order, how=\"inner\", left_on=\"pi_d\", right_on=\"pid\")"
   ]
  },
  {
   "cell_type": "code",
   "execution_count": 22,
   "id": "57a02d80-479d-4d64-8bbf-74912cd101ed",
   "metadata": {},
   "outputs": [
    {
     "data": {
      "text/html": [
       "<div>\n",
       "<style scoped>\n",
       "    .dataframe tbody tr th:only-of-type {\n",
       "        vertical-align: middle;\n",
       "    }\n",
       "\n",
       "    .dataframe tbody tr th {\n",
       "        vertical-align: top;\n",
       "    }\n",
       "\n",
       "    .dataframe thead th {\n",
       "        text-align: right;\n",
       "    }\n",
       "</style>\n",
       "<table border=\"1\" class=\"dataframe\">\n",
       "  <thead>\n",
       "    <tr style=\"text-align: right;\">\n",
       "      <th></th>\n",
       "      <th>pi_d</th>\n",
       "      <th>product_name</th>\n",
       "      <th>company_name</th>\n",
       "      <th>price</th>\n",
       "      <th>oid</th>\n",
       "      <th>pid</th>\n",
       "      <th>no_of_unit</th>\n",
       "      <th>coutomer_list</th>\n",
       "    </tr>\n",
       "  </thead>\n",
       "  <tbody>\n",
       "    <tr>\n",
       "      <th>0</th>\n",
       "      <td>101</td>\n",
       "      <td>Deodorant</td>\n",
       "      <td>Park Avenue</td>\n",
       "      <td>100</td>\n",
       "      <td>01</td>\n",
       "      <td>101</td>\n",
       "      <td>30</td>\n",
       "      <td>lifestyle</td>\n",
       "    </tr>\n",
       "    <tr>\n",
       "      <th>1</th>\n",
       "      <td>101</td>\n",
       "      <td>Deodorant</td>\n",
       "      <td>Park Avenue</td>\n",
       "      <td>100</td>\n",
       "      <td>02</td>\n",
       "      <td>101</td>\n",
       "      <td>5</td>\n",
       "      <td>shopers_stop</td>\n",
       "    </tr>\n",
       "    <tr>\n",
       "      <th>2</th>\n",
       "      <td>101</td>\n",
       "      <td>Deodorant</td>\n",
       "      <td>Park Avenue</td>\n",
       "      <td>100</td>\n",
       "      <td>04</td>\n",
       "      <td>101</td>\n",
       "      <td>10</td>\n",
       "      <td>food_bazaar</td>\n",
       "    </tr>\n",
       "    <tr>\n",
       "      <th>3</th>\n",
       "      <td>103</td>\n",
       "      <td>Soap</td>\n",
       "      <td>Lux</td>\n",
       "      <td>200</td>\n",
       "      <td>03</td>\n",
       "      <td>103</td>\n",
       "      <td>25</td>\n",
       "      <td>spencer</td>\n",
       "    </tr>\n",
       "    <tr>\n",
       "      <th>4</th>\n",
       "      <td>103</td>\n",
       "      <td>Soap</td>\n",
       "      <td>Lux</td>\n",
       "      <td>200</td>\n",
       "      <td>05</td>\n",
       "      <td>103</td>\n",
       "      <td>200</td>\n",
       "      <td>big_bazaar</td>\n",
       "    </tr>\n",
       "  </tbody>\n",
       "</table>\n",
       "</div>"
      ],
      "text/plain": [
       "   pi_d product_name company_name  price oid  pid  no_of_unit coutomer_list\n",
       "0   101    Deodorant  Park Avenue    100  01  101          30     lifestyle\n",
       "1   101    Deodorant  Park Avenue    100  02  101           5  shopers_stop\n",
       "2   101    Deodorant  Park Avenue    100  04  101          10   food_bazaar\n",
       "3   103         Soap          Lux    200  03  103          25       spencer\n",
       "4   103         Soap          Lux    200  05  103         200    big_bazaar"
      ]
     },
     "execution_count": 22,
     "metadata": {},
     "output_type": "execute_result"
    }
   ],
   "source": [
    "merged"
   ]
  },
  {
   "cell_type": "code",
   "execution_count": 23,
   "id": "1a99c030-f7ff-466d-bb1b-7f8f2bf05456",
   "metadata": {},
   "outputs": [
    {
     "name": "stdout",
     "output_type": "stream",
     "text": [
      "['oid', 'pid', 'no_of_unit', 'coutomer_list']\n"
     ]
    }
   ],
   "source": [
    "print(order.columns.tolist())\n"
   ]
  },
  {
   "cell_type": "code",
   "execution_count": 24,
   "id": "a2519fd6-2da9-4483-a4de-83ceb802891a",
   "metadata": {},
   "outputs": [],
   "source": [
    "#left = pd.merge(product, order, how=\"left\", on=\"p_id\")  karna hai\n",
    "# both table find product"
   ]
  },
  {
   "cell_type": "code",
   "execution_count": 19,
   "id": "71cc1b80-5c54-4465-b04c-d4b47d579952",
   "metadata": {},
   "outputs": [
    {
     "ename": "TypeError",
     "evalue": "merge() missing 1 required positional argument: 'right'",
     "output_type": "error",
     "traceback": [
      "\u001b[1;31m---------------------------------------------------------------------------\u001b[0m",
      "\u001b[1;31mTypeError\u001b[0m                                 Traceback (most recent call last)",
      "Cell \u001b[1;32mIn[19], line 1\u001b[0m\n\u001b[1;32m----> 1\u001b[0m left\u001b[38;5;241m=\u001b[39mpd\u001b[38;5;241m.\u001b[39mmerge(order,how\u001b[38;5;241m=\u001b[39m\u001b[38;5;124m\"\u001b[39m\u001b[38;5;124mleft\u001b[39m\u001b[38;5;124m\"\u001b[39m,on\u001b[38;5;241m=\u001b[39m\u001b[38;5;124m\"\u001b[39m\u001b[38;5;124mpid\u001b[39m\u001b[38;5;124m\"\u001b[39m)\n",
      "\u001b[1;31mTypeError\u001b[0m: merge() missing 1 required positional argument: 'right'"
     ]
    }
   ],
   "source": [
    "left=pd.merge(order,how=\"left\",on=\"pid\")"
   ]
  },
  {
   "cell_type": "code",
   "execution_count": 20,
   "id": "0fe40cd0-efaa-4ec2-b842-c05991671393",
   "metadata": {},
   "outputs": [
    {
     "ename": "NameError",
     "evalue": "name 'product_name' is not defined",
     "output_type": "error",
     "traceback": [
      "\u001b[1;31m---------------------------------------------------------------------------\u001b[0m",
      "\u001b[1;31mNameError\u001b[0m                                 Traceback (most recent call last)",
      "Cell \u001b[1;32mIn[20], line 1\u001b[0m\n\u001b[1;32m----> 1\u001b[0m pd\u001b[38;5;241m.\u001b[39mmerge(product_name,order,how\u001b[38;5;241m=\u001b[39m\u001b[38;5;124m\"\u001b[39m\u001b[38;5;124mRight\u001b[39m\u001b[38;5;124m\"\u001b[39m,on\u001b[38;5;241m=\u001b[39m\u001b[38;5;124m\"\u001b[39m\u001b[38;5;124mpid\u001b[39m\u001b[38;5;124m\"\u001b[39m)\n",
      "\u001b[1;31mNameError\u001b[0m: name 'product_name' is not defined"
     ]
    }
   ],
   "source": [
    "pd.merge(product_name,order,how=\"Right\",on=\"pid\")"
   ]
  },
  {
   "cell_type": "code",
   "execution_count": null,
   "id": "4b134bdc-440b-40d7-9d24-7868ece8066b",
   "metadata": {},
   "outputs": [],
   "source": []
  },
  {
   "cell_type": "code",
   "execution_count": null,
   "id": "19bc5d9a-8843-4b3b-9eb2-9d78ffd2c8f0",
   "metadata": {},
   "outputs": [],
   "source": []
  },
  {
   "cell_type": "code",
   "execution_count": null,
   "id": "0a338fce-a587-411f-825a-685d71864753",
   "metadata": {},
   "outputs": [],
   "source": []
  }
 ],
 "metadata": {
  "kernelspec": {
   "display_name": "Python 3 (ipykernel)",
   "language": "python",
   "name": "python3"
  },
  "language_info": {
   "codemirror_mode": {
    "name": "ipython",
    "version": 3
   },
   "file_extension": ".py",
   "mimetype": "text/x-python",
   "name": "python",
   "nbconvert_exporter": "python",
   "pygments_lexer": "ipython3",
   "version": "3.12.7"
  }
 },
 "nbformat": 4,
 "nbformat_minor": 5
}
